{
  "nbformat": 4,
  "nbformat_minor": 0,
  "metadata": {
    "colab": {
      "name": "Mutli_CNN_Age_Gender_Race.ipynb",
      "provenance": [],
      "collapsed_sections": []
    },
    "kernelspec": {
      "name": "python3",
      "display_name": "Python 3"
    },
    "accelerator": "GPU"
  },
  "cells": [
    {
      "cell_type": "markdown",
      "metadata": {
        "id": "PvgIIveMdnlo",
        "colab_type": "text"
      },
      "source": [
        "#Implementing Multi-CNN Model Using GoogleNet Architecture"
      ]
    },
    {
      "cell_type": "markdown",
      "metadata": {
        "id": "W9rsCgPCdy8G",
        "colab_type": "text"
      },
      "source": [
        "### Importing all necessary libraries"
      ]
    },
    {
      "cell_type": "code",
      "metadata": {
        "id": "uoKG3UQuWYSO",
        "colab_type": "code",
        "colab": {}
      },
      "source": [
        "import numpy as np \n",
        "import pandas as pd \n",
        "import os\n",
        "import glob\n",
        "import pandas as pd\n",
        "import matplotlib.pyplot as plt\n",
        "import seaborn as sns"
      ],
      "execution_count": 0,
      "outputs": []
    },
    {
      "cell_type": "code",
      "metadata": {
        "id": "W1X2fa0R9JNq",
        "colab_type": "code",
        "colab": {}
      },
      "source": [
        "import warnings\n",
        "warnings.filterwarnings('ignore')"
      ],
      "execution_count": 0,
      "outputs": []
    },
    {
      "cell_type": "markdown",
      "metadata": {
        "id": "mAEFvYEud4cT",
        "colab_type": "text"
      },
      "source": [
        "###Connecting to my Google Drive"
      ]
    },
    {
      "cell_type": "code",
      "metadata": {
        "id": "Io-_IONJq2Tf",
        "colab_type": "code",
        "outputId": "bc682fce-eda0-4d98-cd66-b349bb60576b",
        "colab": {
          "base_uri": "https://localhost:8080/",
          "height": 122
        }
      },
      "source": [
        "from google.colab import drive\n",
        "drive.mount('/content/drive')"
      ],
      "execution_count": 0,
      "outputs": [
        {
          "output_type": "stream",
          "text": [
            "Go to this URL in a browser: https://accounts.google.com/o/oauth2/auth?client_id=947318989803-6bn6qk8qdgf4n4g3pfee6491hc0brc4i.apps.googleusercontent.com&redirect_uri=urn%3aietf%3awg%3aoauth%3a2.0%3aoob&response_type=code&scope=email%20https%3a%2f%2fwww.googleapis.com%2fauth%2fdocs.test%20https%3a%2f%2fwww.googleapis.com%2fauth%2fdrive%20https%3a%2f%2fwww.googleapis.com%2fauth%2fdrive.photos.readonly%20https%3a%2f%2fwww.googleapis.com%2fauth%2fpeopleapi.readonly\n",
            "\n",
            "Enter your authorization code:\n",
            "··········\n",
            "Mounted at /content/drive\n"
          ],
          "name": "stdout"
        }
      ]
    },
    {
      "cell_type": "markdown",
      "metadata": {
        "id": "jiU7CMYBd_kB",
        "colab_type": "text"
      },
      "source": [
        "###Unzipping the UTKFace Zip file from Google drive"
      ]
    },
    {
      "cell_type": "code",
      "metadata": {
        "id": "uDLNkdxWq-Cm",
        "colab_type": "code",
        "colab": {}
      },
      "source": [
        "!unzip \"/content/drive/My Drive/UTKFace/utkface-new.zip\""
      ],
      "execution_count": 0,
      "outputs": []
    },
    {
      "cell_type": "code",
      "metadata": {
        "id": "d1x0DlXvrK8b",
        "colab_type": "code",
        "outputId": "346be087-df1c-4249-f78c-f89e14dc093c",
        "colab": {
          "base_uri": "https://localhost:8080/",
          "height": 34
        }
      },
      "source": [
        "import glob\n",
        "total_images=0\n",
        "utkface = []\n",
        "utkface +=  glob.glob('/content/UTKFace/*')\n",
        "total_images = len(utkface)\n",
        "print(total_images)"
      ],
      "execution_count": 0,
      "outputs": [
        {
          "output_type": "stream",
          "text": [
            "23708\n"
          ],
          "name": "stdout"
        }
      ]
    },
    {
      "cell_type": "markdown",
      "metadata": {
        "id": "l435w7d3eKtA",
        "colab_type": "text"
      },
      "source": [
        "###Details of UTKFace"
      ]
    },
    {
      "cell_type": "markdown",
      "metadata": {
        "id": "s0mlIeWBeRzz",
        "colab_type": "text"
      },
      "source": [
        "#### Age(0-116), Gender(Male,Female) and Race(White,Black,Asian,Indian and Others)"
      ]
    },
    {
      "cell_type": "code",
      "metadata": {
        "id": "B5WlZz97qtDF",
        "colab_type": "code",
        "outputId": "ef8cb018-f134-4c8a-d54f-ff04eab29ae4",
        "colab": {
          "base_uri": "https://localhost:8080/",
          "height": 85
        }
      },
      "source": [
        "IMG_WIDTH = IMG_HEIGHT = 200\n",
        "Id_Gen = {0: 'male', 1: 'female'}\n",
        "Gen_Id = dict((g, i) for i, g in Id_Gen.items())\n",
        "Id_Race = {0: 'white', 1: 'black', 2: 'asian', 3: 'indian', 4: 'others'}\n",
        "Race_Id = dict((r, i) for i, r in Id_Race.items())\n",
        "\n",
        "Id_Gen, Gen_Id, Id_Race, Race_Id"
      ],
      "execution_count": 0,
      "outputs": [
        {
          "output_type": "execute_result",
          "data": {
            "text/plain": [
              "({0: 'male', 1: 'female'},\n",
              " {'female': 1, 'male': 0},\n",
              " {0: 'white', 1: 'black', 2: 'asian', 3: 'indian', 4: 'others'},\n",
              " {'asian': 2, 'black': 1, 'indian': 3, 'others': 4, 'white': 0})"
            ]
          },
          "metadata": {
            "tags": []
          },
          "execution_count": 7
        }
      ]
    },
    {
      "cell_type": "code",
      "metadata": {
        "id": "w5aSzW0yuhXY",
        "colab_type": "code",
        "outputId": "5f93a4cc-2759-49b2-bff8-a8df7c76dcb9",
        "colab": {
          "base_uri": "https://localhost:8080/",
          "height": 34
        }
      },
      "source": [
        "len(utkface)"
      ],
      "execution_count": 0,
      "outputs": [
        {
          "output_type": "execute_result",
          "data": {
            "text/plain": [
              "23708"
            ]
          },
          "metadata": {
            "tags": []
          },
          "execution_count": 8
        }
      ]
    },
    {
      "cell_type": "markdown",
      "metadata": {
        "id": "dUugZgPIeppr",
        "colab_type": "text"
      },
      "source": [
        "###Collecting details from Each Image"
      ]
    },
    {
      "cell_type": "code",
      "metadata": {
        "id": "fUYOSDIuspcv",
        "colab_type": "code",
        "outputId": "358a4d58-55a2-4cd1-8128-cf3ea4294528",
        "colab": {
          "base_uri": "https://localhost:8080/",
          "height": 34
        }
      },
      "source": [
        "details=[]\n",
        "for img in utkface:\n",
        "  try:\n",
        "    age, gender, race, _ = img.split(\"_\")\n",
        "    details.append([int(age[17:]), Id_Gen[int(gender)], Id_Race[int(race)]])\n",
        "  except:\n",
        "    details.append([None,None,None])\n",
        "\n",
        "len(details),len(utkface)"
      ],
      "execution_count": 0,
      "outputs": [
        {
          "output_type": "execute_result",
          "data": {
            "text/plain": [
              "(23708, 23708)"
            ]
          },
          "metadata": {
            "tags": []
          },
          "execution_count": 9
        }
      ]
    },
    {
      "cell_type": "markdown",
      "metadata": {
        "id": "Wy0DF8BsexeW",
        "colab_type": "text"
      },
      "source": [
        "###Converting to a DataFrame"
      ]
    },
    {
      "cell_type": "code",
      "metadata": {
        "id": "8KAhh01S2jbR",
        "colab_type": "code",
        "outputId": "1804e23f-28c9-4064-b8ba-2f23a1764766",
        "colab": {
          "base_uri": "https://localhost:8080/",
          "height": 204
        }
      },
      "source": [
        "data = pd.DataFrame(details)\n",
        "data['images'] = utkface\n",
        "data.columns = ['age', 'gender', 'race', 'images']\n",
        "data.head()"
      ],
      "execution_count": 0,
      "outputs": [
        {
          "output_type": "execute_result",
          "data": {
            "text/html": [
              "<div>\n",
              "<style scoped>\n",
              "    .dataframe tbody tr th:only-of-type {\n",
              "        vertical-align: middle;\n",
              "    }\n",
              "\n",
              "    .dataframe tbody tr th {\n",
              "        vertical-align: top;\n",
              "    }\n",
              "\n",
              "    .dataframe thead th {\n",
              "        text-align: right;\n",
              "    }\n",
              "</style>\n",
              "<table border=\"1\" class=\"dataframe\">\n",
              "  <thead>\n",
              "    <tr style=\"text-align: right;\">\n",
              "      <th></th>\n",
              "      <th>age</th>\n",
              "      <th>gender</th>\n",
              "      <th>race</th>\n",
              "      <th>images</th>\n",
              "    </tr>\n",
              "  </thead>\n",
              "  <tbody>\n",
              "    <tr>\n",
              "      <th>0</th>\n",
              "      <td>1.0</td>\n",
              "      <td>male</td>\n",
              "      <td>asian</td>\n",
              "      <td>/content/UTKFace/1_0_2_20161220144911423.jpg.c...</td>\n",
              "    </tr>\n",
              "    <tr>\n",
              "      <th>1</th>\n",
              "      <td>38.0</td>\n",
              "      <td>male</td>\n",
              "      <td>black</td>\n",
              "      <td>/content/UTKFace/38_0_1_20170116002845718.jpg....</td>\n",
              "    </tr>\n",
              "    <tr>\n",
              "      <th>2</th>\n",
              "      <td>36.0</td>\n",
              "      <td>female</td>\n",
              "      <td>black</td>\n",
              "      <td>/content/UTKFace/36_1_1_20170112231520246.jpg....</td>\n",
              "    </tr>\n",
              "    <tr>\n",
              "      <th>3</th>\n",
              "      <td>16.0</td>\n",
              "      <td>female</td>\n",
              "      <td>black</td>\n",
              "      <td>/content/UTKFace/16_1_1_20170109214212884.jpg....</td>\n",
              "    </tr>\n",
              "    <tr>\n",
              "      <th>4</th>\n",
              "      <td>25.0</td>\n",
              "      <td>female</td>\n",
              "      <td>white</td>\n",
              "      <td>/content/UTKFace/25_1_0_20170116205838424.jpg....</td>\n",
              "    </tr>\n",
              "  </tbody>\n",
              "</table>\n",
              "</div>"
            ],
            "text/plain": [
              "    age  gender   race                                             images\n",
              "0   1.0    male  asian  /content/UTKFace/1_0_2_20161220144911423.jpg.c...\n",
              "1  38.0    male  black  /content/UTKFace/38_0_1_20170116002845718.jpg....\n",
              "2  36.0  female  black  /content/UTKFace/36_1_1_20170112231520246.jpg....\n",
              "3  16.0  female  black  /content/UTKFace/16_1_1_20170109214212884.jpg....\n",
              "4  25.0  female  white  /content/UTKFace/25_1_0_20170116205838424.jpg...."
            ]
          },
          "metadata": {
            "tags": []
          },
          "execution_count": 10
        }
      ]
    },
    {
      "cell_type": "markdown",
      "metadata": {
        "id": "dDbqZ6Iwe9Cr",
        "colab_type": "text"
      },
      "source": [
        "###Droping rows that contains Null/NaN values"
      ]
    },
    {
      "cell_type": "code",
      "metadata": {
        "id": "vXDQ5PPi29Rp",
        "colab_type": "code",
        "outputId": "745eef7b-cf26-45c0-f3d2-21d106a9c9ea",
        "colab": {
          "base_uri": "https://localhost:8080/",
          "height": 102
        }
      },
      "source": [
        "data.isnull().sum()"
      ],
      "execution_count": 0,
      "outputs": [
        {
          "output_type": "execute_result",
          "data": {
            "text/plain": [
              "age       3\n",
              "gender    3\n",
              "race      3\n",
              "images    0\n",
              "dtype: int64"
            ]
          },
          "metadata": {
            "tags": []
          },
          "execution_count": 11
        }
      ]
    },
    {
      "cell_type": "code",
      "metadata": {
        "id": "oog9uGnP3NOl",
        "colab_type": "code",
        "colab": {}
      },
      "source": [
        "data = data.dropna()"
      ],
      "execution_count": 0,
      "outputs": []
    },
    {
      "cell_type": "code",
      "metadata": {
        "id": "SppmdR7V3WoD",
        "colab_type": "code",
        "outputId": "55ca7e14-7b7e-4b98-b8bb-8af7f314545b",
        "colab": {
          "base_uri": "https://localhost:8080/",
          "height": 102
        }
      },
      "source": [
        "data.isnull().sum(),len(data)"
      ],
      "execution_count": 0,
      "outputs": [
        {
          "output_type": "execute_result",
          "data": {
            "text/plain": [
              "(age       0\n",
              " gender    0\n",
              " race      0\n",
              " images    0\n",
              " dtype: int64, 23705)"
            ]
          },
          "metadata": {
            "tags": []
          },
          "execution_count": 13
        }
      ]
    },
    {
      "cell_type": "markdown",
      "metadata": {
        "id": "lF2ES9yXfFnV",
        "colab_type": "text"
      },
      "source": [
        "###Spliting the data "
      ]
    },
    {
      "cell_type": "code",
      "metadata": {
        "id": "GsZIP2ku3aBu",
        "colab_type": "code",
        "outputId": "16a910c0-8f9f-40f7-c82d-a64655bb21c5",
        "colab": {
          "base_uri": "https://localhost:8080/",
          "height": 34
        }
      },
      "source": [
        "p = np.random.permutation(len(data))\n",
        "train_up_to = int(len(data) * 0.7)\n",
        "train_idx = p[:train_up_to]\n",
        "test_idx = p[train_up_to:]\n",
        "\n",
        "# split train_idx further into training and validation set\n",
        "train_up_to = int(train_up_to * 0.7)\n",
        "train_idx, valid_idx = train_idx[:train_up_to], train_idx[train_up_to:]\n",
        "\n",
        "data['gender_id'] = data['gender'].map(lambda gender: Gen_Id[gender])\n",
        "data['race_id'] = data['race'].map(lambda race: Race_Id[race])\n",
        "\n",
        "max_age = data['age'].max()\n",
        "len(train_idx), len(valid_idx), len(test_idx), max_age"
      ],
      "execution_count": 0,
      "outputs": [
        {
          "output_type": "execute_result",
          "data": {
            "text/plain": [
              "(11615, 4978, 7112, 116.0)"
            ]
          },
          "metadata": {
            "tags": []
          },
          "execution_count": 14
        }
      ]
    },
    {
      "cell_type": "markdown",
      "metadata": {
        "id": "tf5Hs936fLor",
        "colab_type": "text"
      },
      "source": [
        "###Image Preprocessing"
      ]
    },
    {
      "cell_type": "code",
      "metadata": {
        "id": "xqO6tV8M3-iz",
        "colab_type": "code",
        "outputId": "238632db-24b5-4930-c463-dee5658ebcbd",
        "colab": {
          "base_uri": "https://localhost:8080/",
          "height": 97
        }
      },
      "source": [
        "from PIL import Image\n",
        "from keras.utils import to_categorical\n",
        "\n",
        "def Img_preprocesser(data, indexes, train, batch_size=16):\n",
        "    images, ages, races, genders = [], [], [], []\n",
        "    while True:\n",
        "        for i in indexes:\n",
        "            file_ = data.iloc[i]\n",
        "            image, age, race, gender = file_['images'], file_['age'], file_['race_id'], file_['gender_id']\n",
        "            img = Image.open(image)\n",
        "            img = img.resize((IMG_WIDTH, IMG_HEIGHT))\n",
        "            img = np.array(img) / 255.0\n",
        "            images.append(img)\n",
        "            ages.append(age / max_age)\n",
        "            races.append(to_categorical(race, len(Race_Id)))\n",
        "            genders.append(to_categorical(gender, 2))\n",
        "            if len(images) >= batch_size:\n",
        "                yield np.array(images), [np.array(ages), np.array(races), np.array(genders)]\n",
        "                images, ages, races, genders = [], [], [], []\n",
        "        if not train:\n",
        "            break"
      ],
      "execution_count": 0,
      "outputs": [
        {
          "output_type": "stream",
          "text": [
            "Using TensorFlow backend.\n"
          ],
          "name": "stderr"
        },
        {
          "output_type": "display_data",
          "data": {
            "text/html": [
              "<p style=\"color: red;\">\n",
              "The default version of TensorFlow in Colab will soon switch to TensorFlow 2.x.<br>\n",
              "We recommend you <a href=\"https://www.tensorflow.org/guide/migrate\" target=\"_blank\">upgrade</a> now \n",
              "or ensure your notebook will continue to use TensorFlow 1.x via the <code>%tensorflow_version 1.x</code> magic:\n",
              "<a href=\"https://colab.research.google.com/notebooks/tensorflow_version.ipynb\" target=\"_blank\">more info</a>.</p>\n"
            ],
            "text/plain": [
              "<IPython.core.display.HTML object>"
            ]
          },
          "metadata": {
            "tags": []
          }
        }
      ]
    },
    {
      "cell_type": "markdown",
      "metadata": {
        "id": "mYj7MVWOfRqj",
        "colab_type": "text"
      },
      "source": [
        "###Importing Libraries"
      ]
    },
    {
      "cell_type": "markdown",
      "metadata": {
        "id": "22W0QrPXfXuC",
        "colab_type": "text"
      },
      "source": [
        "Libraries that are necessary to implement GoogleNet Inception Architecture"
      ]
    },
    {
      "cell_type": "code",
      "metadata": {
        "id": "1N68J2iY5mNN",
        "colab_type": "code",
        "colab": {}
      },
      "source": [
        "import keras,os\n",
        "from keras.models import Model\n",
        "from keras.layers import Conv2D, MaxPool2D,Dropout, Dense, Input, concatenate,GlobalAveragePooling2D, AveragePooling2D,Flatten,GlobalMaxPool2D\n",
        "\n",
        "from keras.layers.core import Layer\n",
        "import keras.backend as K\n",
        "import tensorflow as tf\n",
        "\n",
        "from keras.optimizers import SGD \n",
        "from keras.callbacks import LearningRateScheduler"
      ],
      "execution_count": 0,
      "outputs": []
    },
    {
      "cell_type": "markdown",
      "metadata": {
        "id": "_1bcSIzjfgdQ",
        "colab_type": "text"
      },
      "source": [
        "###Inception Model"
      ]
    },
    {
      "cell_type": "markdown",
      "metadata": {
        "id": "FvCf9VtLfnCH",
        "colab_type": "text"
      },
      "source": [
        "Inception Function "
      ]
    },
    {
      "cell_type": "code",
      "metadata": {
        "id": "h2-cpz0553Sj",
        "colab_type": "code",
        "colab": {}
      },
      "source": [
        "def inception_module(x,filters_1x1,filters_3x3_reduce,filters_3x3,filters_5x5_reduce,filters_5x5,filters_pool_proj,name=None):\n",
        "    conv_1x1 = Conv2D(filters_1x1, (1, 1), padding='same', activation='relu', kernel_initializer=kernel_init, bias_initializer=bias_init)(x)\n",
        "    \n",
        "    conv_3x3 = Conv2D(filters_3x3_reduce, (1, 1), padding='same', activation='relu', kernel_initializer=kernel_init, bias_initializer=bias_init)(x)\n",
        "    conv_3x3 = Conv2D(filters_3x3, (3, 3), padding='same', activation='relu', kernel_initializer=kernel_init, bias_initializer=bias_init)(conv_3x3)\n",
        "\n",
        "    conv_5x5 = Conv2D(filters_5x5_reduce, (1, 1), padding='same', activation='relu', kernel_initializer=kernel_init, bias_initializer=bias_init)(x)\n",
        "    conv_5x5 = Conv2D(filters_5x5, (5, 5), padding='same', activation='relu', kernel_initializer=kernel_init, bias_initializer=bias_init)(conv_5x5)\n",
        "\n",
        "    pool_proj = MaxPool2D((3, 3), strides=(1, 1), padding='same')(x)\n",
        "    pool_proj = Conv2D(filters_pool_proj, (1, 1), padding='same', activation='relu', kernel_initializer=kernel_init, bias_initializer=bias_init)(pool_proj)\n",
        "\n",
        "    output = concatenate([conv_1x1, conv_3x3, conv_5x5, pool_proj], axis=3, name=name)\n",
        "    \n",
        "    return output\n"
      ],
      "execution_count": 0,
      "outputs": []
    },
    {
      "cell_type": "markdown",
      "metadata": {
        "id": "Z3xp6qipfuP0",
        "colab_type": "text"
      },
      "source": [
        "###Layers of GooleNet Architecture"
      ]
    },
    {
      "cell_type": "markdown",
      "metadata": {
        "id": "QGTJPFxNf1j4",
        "colab_type": "text"
      },
      "source": [
        "Implementing GoogleNet Architecture and converting the Architecture to Multi-CNN"
      ]
    },
    {
      "cell_type": "code",
      "metadata": {
        "id": "stI8UUXw5-Da",
        "colab_type": "code",
        "colab": {}
      },
      "source": [
        "input_layer = Input(shape=(200, 200, 3))\n",
        "\n",
        "x = Conv2D(64, (7, 7), padding='same', strides=(2, 2), activation='relu', name='conv_1_7x7/2', kernel_initializer=kernel_init, bias_initializer=bias_init)(input_layer)\n",
        "x = MaxPool2D((3, 3), padding='same', strides=(2, 2), name='max_pool_1_3x3/2')(x)\n",
        "x = Conv2D(64, (1, 1), padding='same', strides=(1, 1), activation='relu', name='conv_2a_3x3/1')(x)\n",
        "x = Conv2D(192, (3, 3), padding='same', strides=(1, 1), activation='relu', name='conv_2b_3x3/1')(x)\n",
        "x = MaxPool2D((3, 3), padding='same', strides=(2, 2), name='max_pool_2_3x3/2')(x)\n",
        "\n",
        "\n",
        "x = inception_module(x,filters_1x1=64,filters_3x3_reduce=96,filters_3x3=128,filters_5x5_reduce=16,filters_5x5=32,filters_pool_proj=32,name='inception_3a')\n",
        "\n",
        "x = inception_module(x,filters_1x1=128,filters_3x3_reduce=128,filters_3x3=192,filters_5x5_reduce=32,filters_5x5=96,filters_pool_proj=64,name='inception_3b')\n",
        "\n",
        "x = MaxPool2D((3, 3), padding='same', strides=(2, 2), name='max_pool_3_3x3/2')(x)\n",
        "\n",
        "x = inception_module(x,filters_1x1=192,filters_3x3_reduce=96,filters_3x3=208,filters_5x5_reduce=16,filters_5x5=48,filters_pool_proj=64,name='inception_4a')\n",
        "\n",
        "\n",
        "x1 = AveragePooling2D((5, 5), strides=3)(x)\n",
        "x1 = Conv2D(128, (1, 1), padding='same', activation='relu')(x1)\n",
        "x1 = Flatten()(x1)\n",
        "x1 = Dense(1024, activation='relu')(x1)\n",
        "x1 = Dropout(0.7)(x1)\n",
        "x1 = Dense(10, activation='softmax', name='auxilliary_output_1')(x1)\n",
        "\n",
        "\n",
        "x = inception_module(x,filters_1x1=160,filters_3x3_reduce=112,filters_3x3=224,filters_5x5_reduce=24,filters_5x5=64,filters_pool_proj=64,name='inception_4b')\n",
        "\n",
        "x = inception_module(x,filters_1x1=128,filters_3x3_reduce=128,filters_3x3=256,filters_5x5_reduce=24,filters_5x5=64,filters_pool_proj=64,name='inception_4c')\n",
        "\n",
        "x = inception_module(x,filters_1x1=112,filters_3x3_reduce=144,filters_3x3=288,filters_5x5_reduce=32,filters_5x5=64,filters_pool_proj=64,name='inception_4d')\n",
        "\n",
        "x2 = AveragePooling2D((5, 5), strides=3)(x)\n",
        "x2 = Conv2D(128, (1, 1), padding='same', activation='relu')(x2)\n",
        "x2 = Flatten()(x2)\n",
        "x2 = Dense(1024, activation='relu')(x2)\n",
        "x2 = Dropout(0.7)(x2)\n",
        "x2 = Dense(10, activation='softmax', name='auxilliary_output_2')(x2)\n",
        "\n",
        "\n",
        "x = inception_module(x,filters_1x1=256,filters_3x3_reduce=160,filters_3x3=320,filters_5x5_reduce=32,filters_5x5=128,filters_pool_proj=128,name='inception_4e')\n",
        "\n",
        "x = MaxPool2D((3, 3), padding='same', strides=(2, 2), name='max_pool_4_3x3/2')(x)\n",
        "\n",
        "x = inception_module(x,filters_1x1=256,filters_3x3_reduce=160,filters_3x3=320,filters_5x5_reduce=32,filters_5x5=128,filters_pool_proj=128,name='inception_5a')\n",
        "\n",
        "x = inception_module(x,filters_1x1=384,filters_3x3_reduce=192,filters_3x3=384,filters_5x5_reduce=48,filters_5x5=128,filters_pool_proj=128,name='inception_5b')\n",
        "\n",
        "\n",
        "x = Dropout(0.4)(x)\n",
        "\n",
        "#Expanding GoogleNet to achieve Multi-CNN Model\n",
        "\n",
        "bottleneck = GlobalMaxPool2D()(x)\n",
        " \n",
        "# for age calculation\n",
        "x = Dense(units=128, activation='relu')(bottleneck)\n",
        "age_output = Dense(units=1, activation='sigmoid', name='age_output')(x)\n",
        " \n",
        "# for race prediction\n",
        "x = Dense(units=128, activation='relu')(bottleneck)\n",
        "race_output = Dense(units=len(Race_Id), activation='softmax', name='race_output')(x)\n",
        " \n",
        "# for gender prediction\n",
        "x = Dense(units=128, activation='relu')(bottleneck)\n",
        "gender_output = Dense(units=len(Gen_Id), activation='softmax', name='gender_output')(x)\n",
        " \n",
        "\n"
      ],
      "execution_count": 0,
      "outputs": []
    },
    {
      "cell_type": "code",
      "metadata": {
        "id": "JdynD0bUgVs2",
        "colab_type": "code",
        "colab": {}
      },
      "source": [
        "model = Model(inputs=input_layer, outputs=[age_output, race_output, gender_output])\n",
        "adam = keras.optimizers.Adam(0.001)\n",
        "model.compile(optimizer=adam, \n",
        "              loss={'age_output': 'mse', 'race_output': 'categorical_crossentropy', 'gender_output': 'categorical_crossentropy'},\n",
        "              loss_weights={'age_output': 2., 'race_output': 1.5, 'gender_output': 1.},\n",
        "              metrics={'age_output': 'mae', 'race_output': 'accuracy', 'gender_output': 'accuracy'})\n"
      ],
      "execution_count": 0,
      "outputs": []
    },
    {
      "cell_type": "markdown",
      "metadata": {
        "id": "8LsLzJDhgXq1",
        "colab_type": "text"
      },
      "source": [
        "###Model Summary"
      ]
    },
    {
      "cell_type": "code",
      "metadata": {
        "id": "jguMUIhM6poB",
        "colab_type": "code",
        "outputId": "aa30d80b-310b-45c3-9003-b435856a7bee",
        "colab": {
          "base_uri": "https://localhost:8080/",
          "height": 1000
        }
      },
      "source": [
        "model.summary()"
      ],
      "execution_count": 0,
      "outputs": [
        {
          "output_type": "stream",
          "text": [
            "Model: \"model_4\"\n",
            "__________________________________________________________________________________________________\n",
            "Layer (type)                    Output Shape         Param #     Connected to                     \n",
            "==================================================================================================\n",
            "input_4 (InputLayer)            (None, 200, 200, 3)  0                                            \n",
            "__________________________________________________________________________________________________\n",
            "conv_1_7x7/2 (Conv2D)           (None, 100, 100, 64) 9472        input_4[0][0]                    \n",
            "__________________________________________________________________________________________________\n",
            "max_pool_1_3x3/2 (MaxPooling2D) (None, 50, 50, 64)   0           conv_1_7x7/2[0][0]               \n",
            "__________________________________________________________________________________________________\n",
            "conv_2a_3x3/1 (Conv2D)          (None, 50, 50, 64)   4160        max_pool_1_3x3/2[0][0]           \n",
            "__________________________________________________________________________________________________\n",
            "conv_2b_3x3/1 (Conv2D)          (None, 50, 50, 192)  110784      conv_2a_3x3/1[0][0]              \n",
            "__________________________________________________________________________________________________\n",
            "max_pool_2_3x3/2 (MaxPooling2D) (None, 25, 25, 192)  0           conv_2b_3x3/1[0][0]              \n",
            "__________________________________________________________________________________________________\n",
            "conv2d_170 (Conv2D)             (None, 25, 25, 96)   18528       max_pool_2_3x3/2[0][0]           \n",
            "__________________________________________________________________________________________________\n",
            "conv2d_172 (Conv2D)             (None, 25, 25, 16)   3088        max_pool_2_3x3/2[0][0]           \n",
            "__________________________________________________________________________________________________\n",
            "max_pooling2d_28 (MaxPooling2D) (None, 25, 25, 192)  0           max_pool_2_3x3/2[0][0]           \n",
            "__________________________________________________________________________________________________\n",
            "conv2d_169 (Conv2D)             (None, 25, 25, 64)   12352       max_pool_2_3x3/2[0][0]           \n",
            "__________________________________________________________________________________________________\n",
            "conv2d_171 (Conv2D)             (None, 25, 25, 128)  110720      conv2d_170[0][0]                 \n",
            "__________________________________________________________________________________________________\n",
            "conv2d_173 (Conv2D)             (None, 25, 25, 32)   12832       conv2d_172[0][0]                 \n",
            "__________________________________________________________________________________________________\n",
            "conv2d_174 (Conv2D)             (None, 25, 25, 32)   6176        max_pooling2d_28[0][0]           \n",
            "__________________________________________________________________________________________________\n",
            "inception_3a (Concatenate)      (None, 25, 25, 256)  0           conv2d_169[0][0]                 \n",
            "                                                                 conv2d_171[0][0]                 \n",
            "                                                                 conv2d_173[0][0]                 \n",
            "                                                                 conv2d_174[0][0]                 \n",
            "__________________________________________________________________________________________________\n",
            "conv2d_176 (Conv2D)             (None, 25, 25, 128)  32896       inception_3a[0][0]               \n",
            "__________________________________________________________________________________________________\n",
            "conv2d_178 (Conv2D)             (None, 25, 25, 32)   8224        inception_3a[0][0]               \n",
            "__________________________________________________________________________________________________\n",
            "max_pooling2d_29 (MaxPooling2D) (None, 25, 25, 256)  0           inception_3a[0][0]               \n",
            "__________________________________________________________________________________________________\n",
            "conv2d_175 (Conv2D)             (None, 25, 25, 128)  32896       inception_3a[0][0]               \n",
            "__________________________________________________________________________________________________\n",
            "conv2d_177 (Conv2D)             (None, 25, 25, 192)  221376      conv2d_176[0][0]                 \n",
            "__________________________________________________________________________________________________\n",
            "conv2d_179 (Conv2D)             (None, 25, 25, 96)   76896       conv2d_178[0][0]                 \n",
            "__________________________________________________________________________________________________\n",
            "conv2d_180 (Conv2D)             (None, 25, 25, 64)   16448       max_pooling2d_29[0][0]           \n",
            "__________________________________________________________________________________________________\n",
            "inception_3b (Concatenate)      (None, 25, 25, 480)  0           conv2d_175[0][0]                 \n",
            "                                                                 conv2d_177[0][0]                 \n",
            "                                                                 conv2d_179[0][0]                 \n",
            "                                                                 conv2d_180[0][0]                 \n",
            "__________________________________________________________________________________________________\n",
            "max_pool_3_3x3/2 (MaxPooling2D) (None, 13, 13, 480)  0           inception_3b[0][0]               \n",
            "__________________________________________________________________________________________________\n",
            "conv2d_182 (Conv2D)             (None, 13, 13, 96)   46176       max_pool_3_3x3/2[0][0]           \n",
            "__________________________________________________________________________________________________\n",
            "conv2d_184 (Conv2D)             (None, 13, 13, 16)   7696        max_pool_3_3x3/2[0][0]           \n",
            "__________________________________________________________________________________________________\n",
            "max_pooling2d_30 (MaxPooling2D) (None, 13, 13, 480)  0           max_pool_3_3x3/2[0][0]           \n",
            "__________________________________________________________________________________________________\n",
            "conv2d_181 (Conv2D)             (None, 13, 13, 192)  92352       max_pool_3_3x3/2[0][0]           \n",
            "__________________________________________________________________________________________________\n",
            "conv2d_183 (Conv2D)             (None, 13, 13, 208)  179920      conv2d_182[0][0]                 \n",
            "__________________________________________________________________________________________________\n",
            "conv2d_185 (Conv2D)             (None, 13, 13, 48)   19248       conv2d_184[0][0]                 \n",
            "__________________________________________________________________________________________________\n",
            "conv2d_186 (Conv2D)             (None, 13, 13, 64)   30784       max_pooling2d_30[0][0]           \n",
            "__________________________________________________________________________________________________\n",
            "inception_4a (Concatenate)      (None, 13, 13, 512)  0           conv2d_181[0][0]                 \n",
            "                                                                 conv2d_183[0][0]                 \n",
            "                                                                 conv2d_185[0][0]                 \n",
            "                                                                 conv2d_186[0][0]                 \n",
            "__________________________________________________________________________________________________\n",
            "conv2d_189 (Conv2D)             (None, 13, 13, 112)  57456       inception_4a[0][0]               \n",
            "__________________________________________________________________________________________________\n",
            "conv2d_191 (Conv2D)             (None, 13, 13, 24)   12312       inception_4a[0][0]               \n",
            "__________________________________________________________________________________________________\n",
            "max_pooling2d_31 (MaxPooling2D) (None, 13, 13, 512)  0           inception_4a[0][0]               \n",
            "__________________________________________________________________________________________________\n",
            "conv2d_188 (Conv2D)             (None, 13, 13, 160)  82080       inception_4a[0][0]               \n",
            "__________________________________________________________________________________________________\n",
            "conv2d_190 (Conv2D)             (None, 13, 13, 224)  226016      conv2d_189[0][0]                 \n",
            "__________________________________________________________________________________________________\n",
            "conv2d_192 (Conv2D)             (None, 13, 13, 64)   38464       conv2d_191[0][0]                 \n",
            "__________________________________________________________________________________________________\n",
            "conv2d_193 (Conv2D)             (None, 13, 13, 64)   32832       max_pooling2d_31[0][0]           \n",
            "__________________________________________________________________________________________________\n",
            "inception_4b (Concatenate)      (None, 13, 13, 512)  0           conv2d_188[0][0]                 \n",
            "                                                                 conv2d_190[0][0]                 \n",
            "                                                                 conv2d_192[0][0]                 \n",
            "                                                                 conv2d_193[0][0]                 \n",
            "__________________________________________________________________________________________________\n",
            "conv2d_195 (Conv2D)             (None, 13, 13, 128)  65664       inception_4b[0][0]               \n",
            "__________________________________________________________________________________________________\n",
            "conv2d_197 (Conv2D)             (None, 13, 13, 24)   12312       inception_4b[0][0]               \n",
            "__________________________________________________________________________________________________\n",
            "max_pooling2d_32 (MaxPooling2D) (None, 13, 13, 512)  0           inception_4b[0][0]               \n",
            "__________________________________________________________________________________________________\n",
            "conv2d_194 (Conv2D)             (None, 13, 13, 128)  65664       inception_4b[0][0]               \n",
            "__________________________________________________________________________________________________\n",
            "conv2d_196 (Conv2D)             (None, 13, 13, 256)  295168      conv2d_195[0][0]                 \n",
            "__________________________________________________________________________________________________\n",
            "conv2d_198 (Conv2D)             (None, 13, 13, 64)   38464       conv2d_197[0][0]                 \n",
            "__________________________________________________________________________________________________\n",
            "conv2d_199 (Conv2D)             (None, 13, 13, 64)   32832       max_pooling2d_32[0][0]           \n",
            "__________________________________________________________________________________________________\n",
            "inception_4c (Concatenate)      (None, 13, 13, 512)  0           conv2d_194[0][0]                 \n",
            "                                                                 conv2d_196[0][0]                 \n",
            "                                                                 conv2d_198[0][0]                 \n",
            "                                                                 conv2d_199[0][0]                 \n",
            "__________________________________________________________________________________________________\n",
            "conv2d_201 (Conv2D)             (None, 13, 13, 144)  73872       inception_4c[0][0]               \n",
            "__________________________________________________________________________________________________\n",
            "conv2d_203 (Conv2D)             (None, 13, 13, 32)   16416       inception_4c[0][0]               \n",
            "__________________________________________________________________________________________________\n",
            "max_pooling2d_33 (MaxPooling2D) (None, 13, 13, 512)  0           inception_4c[0][0]               \n",
            "__________________________________________________________________________________________________\n",
            "conv2d_200 (Conv2D)             (None, 13, 13, 112)  57456       inception_4c[0][0]               \n",
            "__________________________________________________________________________________________________\n",
            "conv2d_202 (Conv2D)             (None, 13, 13, 288)  373536      conv2d_201[0][0]                 \n",
            "__________________________________________________________________________________________________\n",
            "conv2d_204 (Conv2D)             (None, 13, 13, 64)   51264       conv2d_203[0][0]                 \n",
            "__________________________________________________________________________________________________\n",
            "conv2d_205 (Conv2D)             (None, 13, 13, 64)   32832       max_pooling2d_33[0][0]           \n",
            "__________________________________________________________________________________________________\n",
            "inception_4d (Concatenate)      (None, 13, 13, 528)  0           conv2d_200[0][0]                 \n",
            "                                                                 conv2d_202[0][0]                 \n",
            "                                                                 conv2d_204[0][0]                 \n",
            "                                                                 conv2d_205[0][0]                 \n",
            "__________________________________________________________________________________________________\n",
            "conv2d_208 (Conv2D)             (None, 13, 13, 160)  84640       inception_4d[0][0]               \n",
            "__________________________________________________________________________________________________\n",
            "conv2d_210 (Conv2D)             (None, 13, 13, 32)   16928       inception_4d[0][0]               \n",
            "__________________________________________________________________________________________________\n",
            "max_pooling2d_34 (MaxPooling2D) (None, 13, 13, 528)  0           inception_4d[0][0]               \n",
            "__________________________________________________________________________________________________\n",
            "conv2d_207 (Conv2D)             (None, 13, 13, 256)  135424      inception_4d[0][0]               \n",
            "__________________________________________________________________________________________________\n",
            "conv2d_209 (Conv2D)             (None, 13, 13, 320)  461120      conv2d_208[0][0]                 \n",
            "__________________________________________________________________________________________________\n",
            "conv2d_211 (Conv2D)             (None, 13, 13, 128)  102528      conv2d_210[0][0]                 \n",
            "__________________________________________________________________________________________________\n",
            "conv2d_212 (Conv2D)             (None, 13, 13, 128)  67712       max_pooling2d_34[0][0]           \n",
            "__________________________________________________________________________________________________\n",
            "inception_4e (Concatenate)      (None, 13, 13, 832)  0           conv2d_207[0][0]                 \n",
            "                                                                 conv2d_209[0][0]                 \n",
            "                                                                 conv2d_211[0][0]                 \n",
            "                                                                 conv2d_212[0][0]                 \n",
            "__________________________________________________________________________________________________\n",
            "max_pool_4_3x3/2 (MaxPooling2D) (None, 7, 7, 832)    0           inception_4e[0][0]               \n",
            "__________________________________________________________________________________________________\n",
            "conv2d_214 (Conv2D)             (None, 7, 7, 160)    133280      max_pool_4_3x3/2[0][0]           \n",
            "__________________________________________________________________________________________________\n",
            "conv2d_216 (Conv2D)             (None, 7, 7, 32)     26656       max_pool_4_3x3/2[0][0]           \n",
            "__________________________________________________________________________________________________\n",
            "max_pooling2d_35 (MaxPooling2D) (None, 7, 7, 832)    0           max_pool_4_3x3/2[0][0]           \n",
            "__________________________________________________________________________________________________\n",
            "conv2d_213 (Conv2D)             (None, 7, 7, 256)    213248      max_pool_4_3x3/2[0][0]           \n",
            "__________________________________________________________________________________________________\n",
            "conv2d_215 (Conv2D)             (None, 7, 7, 320)    461120      conv2d_214[0][0]                 \n",
            "__________________________________________________________________________________________________\n",
            "conv2d_217 (Conv2D)             (None, 7, 7, 128)    102528      conv2d_216[0][0]                 \n",
            "__________________________________________________________________________________________________\n",
            "conv2d_218 (Conv2D)             (None, 7, 7, 128)    106624      max_pooling2d_35[0][0]           \n",
            "__________________________________________________________________________________________________\n",
            "inception_5a (Concatenate)      (None, 7, 7, 832)    0           conv2d_213[0][0]                 \n",
            "                                                                 conv2d_215[0][0]                 \n",
            "                                                                 conv2d_217[0][0]                 \n",
            "                                                                 conv2d_218[0][0]                 \n",
            "__________________________________________________________________________________________________\n",
            "conv2d_220 (Conv2D)             (None, 7, 7, 192)    159936      inception_5a[0][0]               \n",
            "__________________________________________________________________________________________________\n",
            "conv2d_222 (Conv2D)             (None, 7, 7, 48)     39984       inception_5a[0][0]               \n",
            "__________________________________________________________________________________________________\n",
            "max_pooling2d_36 (MaxPooling2D) (None, 7, 7, 832)    0           inception_5a[0][0]               \n",
            "__________________________________________________________________________________________________\n",
            "conv2d_219 (Conv2D)             (None, 7, 7, 384)    319872      inception_5a[0][0]               \n",
            "__________________________________________________________________________________________________\n",
            "conv2d_221 (Conv2D)             (None, 7, 7, 384)    663936      conv2d_220[0][0]                 \n",
            "__________________________________________________________________________________________________\n",
            "conv2d_223 (Conv2D)             (None, 7, 7, 128)    153728      conv2d_222[0][0]                 \n",
            "__________________________________________________________________________________________________\n",
            "conv2d_224 (Conv2D)             (None, 7, 7, 128)    106624      max_pooling2d_36[0][0]           \n",
            "__________________________________________________________________________________________________\n",
            "inception_5b (Concatenate)      (None, 7, 7, 1024)   0           conv2d_219[0][0]                 \n",
            "                                                                 conv2d_221[0][0]                 \n",
            "                                                                 conv2d_223[0][0]                 \n",
            "                                                                 conv2d_224[0][0]                 \n",
            "__________________________________________________________________________________________________\n",
            "dropout_12 (Dropout)            (None, 7, 7, 1024)   0           inception_5b[0][0]               \n",
            "__________________________________________________________________________________________________\n",
            "global_max_pooling2d_4 (GlobalM (None, 1024)         0           dropout_12[0][0]                 \n",
            "__________________________________________________________________________________________________\n",
            "dense_18 (Dense)                (None, 128)          131200      global_max_pooling2d_4[0][0]     \n",
            "__________________________________________________________________________________________________\n",
            "dense_19 (Dense)                (None, 128)          131200      global_max_pooling2d_4[0][0]     \n",
            "__________________________________________________________________________________________________\n",
            "dense_20 (Dense)                (None, 128)          131200      global_max_pooling2d_4[0][0]     \n",
            "__________________________________________________________________________________________________\n",
            "age_output (Dense)              (None, 1)            129         dense_18[0][0]                   \n",
            "__________________________________________________________________________________________________\n",
            "race_output (Dense)             (None, 5)            645         dense_19[0][0]                   \n",
            "__________________________________________________________________________________________________\n",
            "gender_output (Dense)           (None, 2)            258         dense_20[0][0]                   \n",
            "==================================================================================================\n",
            "Total params: 6,368,184\n",
            "Trainable params: 6,368,184\n",
            "Non-trainable params: 0\n",
            "__________________________________________________________________________________________________\n"
          ],
          "name": "stdout"
        }
      ]
    },
    {
      "cell_type": "markdown",
      "metadata": {
        "id": "Ksr6xBYWgePE",
        "colab_type": "text"
      },
      "source": [
        "###Fitting the Model"
      ]
    },
    {
      "cell_type": "code",
      "metadata": {
        "id": "uX9MWul57uQO",
        "colab_type": "code",
        "outputId": "9d0941b0-4974-4747-b1ee-7d8ad2a303b6",
        "colab": {
          "base_uri": "https://localhost:8080/",
          "height": 1000
        }
      },
      "source": [
        "from keras.callbacks import ModelCheckpoint\n",
        "\n",
        "batch_size = 256\n",
        "valid_batch_size = 256\n",
        "train_ = Img_preprocesser(data, train_idx, train=True, batch_size=batch_size)\n",
        "valid_ = Img_preprocesser(data, valid_idx, train=True, batch_size=valid_batch_size)\n",
        "\n",
        "callbacks = [ModelCheckpoint(\"./model_checkpoint\", monitor='val_loss')]\n",
        "\n",
        "# if torch.cuda.is_available():\n",
        "#     device = torch.device(\"cuda\")         \n",
        "#     train_ = torch.from_numpy(train_)\n",
        "#     valid_ = torch.from_numpy(valid_)\n",
        "\n",
        "\n",
        "history = model.fit_generator(train_,steps_per_epoch=len(train_idx)//batch_size,epochs=75,callbacks=callbacks,validation_data=valid_,validation_steps=len(valid_idx)//valid_batch_size)\n",
        "\n"
      ],
      "execution_count": 0,
      "outputs": [
        {
          "output_type": "stream",
          "text": [
            "Epoch 1/75\n",
            "45/45 [==============================] - 111s 2s/step - loss: 3.7845 - age_output_loss: 0.0941 - race_output_loss: 1.7709 - gender_output_loss: 0.9400 - age_output_mean_absolute_error: 0.2546 - race_output_acc: 0.3938 - gender_output_acc: 0.4995 - val_loss: 2.9694 - val_age_output_loss: 0.0286 - val_race_output_loss: 1.4769 - val_gender_output_loss: 0.6968 - val_age_output_mean_absolute_error: 0.1295 - val_race_output_acc: 0.4297 - val_gender_output_acc: 0.4729\n",
            "Epoch 2/75\n",
            "45/45 [==============================] - 88s 2s/step - loss: 2.9002 - age_output_loss: 0.0315 - race_output_loss: 1.4343 - gender_output_loss: 0.6857 - age_output_mean_absolute_error: 0.1373 - race_output_acc: 0.4341 - gender_output_acc: 0.5525 - val_loss: 2.8758 - val_age_output_loss: 0.0371 - val_race_output_loss: 1.4177 - val_gender_output_loss: 0.6752 - val_age_output_mean_absolute_error: 0.1651 - val_race_output_acc: 0.4679 - val_gender_output_acc: 0.5997\n",
            "Epoch 3/75\n",
            "45/45 [==============================] - 88s 2s/step - loss: 2.7523 - age_output_loss: 0.0298 - race_output_loss: 1.3603 - gender_output_loss: 0.6521 - age_output_mean_absolute_error: 0.1323 - race_output_acc: 0.4663 - gender_output_acc: 0.6193 - val_loss: 2.7804 - val_age_output_loss: 0.0362 - val_race_output_loss: 1.3765 - val_gender_output_loss: 0.6432 - val_age_output_mean_absolute_error: 0.1595 - val_race_output_acc: 0.4688 - val_gender_output_acc: 0.6476\n",
            "Epoch 4/75\n",
            "45/45 [==============================] - 88s 2s/step - loss: 2.6670 - age_output_loss: 0.0285 - race_output_loss: 1.3250 - gender_output_loss: 0.6224 - age_output_mean_absolute_error: 0.1293 - race_output_acc: 0.4786 - gender_output_acc: 0.6560 - val_loss: 2.7404 - val_age_output_loss: 0.0469 - val_race_output_loss: 1.3477 - val_gender_output_loss: 0.6251 - val_age_output_mean_absolute_error: 0.1847 - val_race_output_acc: 0.4690 - val_gender_output_acc: 0.6593\n",
            "Epoch 5/75\n",
            "45/45 [==============================] - 88s 2s/step - loss: 2.5799 - age_output_loss: 0.0290 - race_output_loss: 1.2756 - gender_output_loss: 0.6084 - age_output_mean_absolute_error: 0.1315 - race_output_acc: 0.4954 - gender_output_acc: 0.6684 - val_loss: 2.7060 - val_age_output_loss: 0.0348 - val_race_output_loss: 1.3595 - val_gender_output_loss: 0.5972 - val_age_output_mean_absolute_error: 0.1516 - val_race_output_acc: 0.5053 - val_gender_output_acc: 0.6947\n",
            "Epoch 6/75\n",
            "45/45 [==============================] - 88s 2s/step - loss: 2.4172 - age_output_loss: 0.0252 - race_output_loss: 1.2058 - gender_output_loss: 0.5581 - age_output_mean_absolute_error: 0.1224 - race_output_acc: 0.5292 - gender_output_acc: 0.7105 - val_loss: 2.4538 - val_age_output_loss: 0.0357 - val_race_output_loss: 1.2247 - val_gender_output_loss: 0.5453 - val_age_output_mean_absolute_error: 0.1596 - val_race_output_acc: 0.5391 - val_gender_output_acc: 0.7362\n",
            "Epoch 7/75\n",
            "45/45 [==============================] - 88s 2s/step - loss: 2.2599 - age_output_loss: 0.0319 - race_output_loss: 1.1319 - gender_output_loss: 0.4982 - age_output_mean_absolute_error: 0.1401 - race_output_acc: 0.5645 - gender_output_acc: 0.7560 - val_loss: 2.3640 - val_age_output_loss: 0.0569 - val_race_output_loss: 1.1704 - val_gender_output_loss: 0.4946 - val_age_output_mean_absolute_error: 0.2118 - val_race_output_acc: 0.5878 - val_gender_output_acc: 0.7773\n",
            "Epoch 8/75\n",
            "45/45 [==============================] - 88s 2s/step - loss: 2.0567 - age_output_loss: 0.0306 - race_output_loss: 1.0170 - gender_output_loss: 0.4699 - age_output_mean_absolute_error: 0.1367 - race_output_acc: 0.6201 - gender_output_acc: 0.7769 - val_loss: 2.1170 - val_age_output_loss: 0.0254 - val_race_output_loss: 1.0639 - val_gender_output_loss: 0.4704 - val_age_output_mean_absolute_error: 0.1320 - val_race_output_acc: 0.6283 - val_gender_output_acc: 0.7948\n",
            "Epoch 9/75\n",
            "45/45 [==============================] - 88s 2s/step - loss: 1.8851 - age_output_loss: 0.0221 - race_output_loss: 0.9473 - gender_output_loss: 0.4199 - age_output_mean_absolute_error: 0.1150 - race_output_acc: 0.6563 - gender_output_acc: 0.8050 - val_loss: 1.9905 - val_age_output_loss: 0.0246 - val_race_output_loss: 1.0149 - val_gender_output_loss: 0.4190 - val_age_output_mean_absolute_error: 0.1316 - val_race_output_acc: 0.6476 - val_gender_output_acc: 0.8148\n",
            "Epoch 10/75\n",
            "45/45 [==============================] - 88s 2s/step - loss: 1.7356 - age_output_loss: 0.0212 - race_output_loss: 0.8709 - gender_output_loss: 0.3869 - age_output_mean_absolute_error: 0.1133 - race_output_acc: 0.6853 - gender_output_acc: 0.8252 - val_loss: 1.9080 - val_age_output_loss: 0.0292 - val_race_output_loss: 0.9641 - val_gender_output_loss: 0.4035 - val_age_output_mean_absolute_error: 0.1458 - val_race_output_acc: 0.6641 - val_gender_output_acc: 0.8228\n",
            "Epoch 11/75\n",
            "45/45 [==============================] - 88s 2s/step - loss: 1.6185 - age_output_loss: 0.0201 - race_output_loss: 0.8148 - gender_output_loss: 0.3562 - age_output_mean_absolute_error: 0.1096 - race_output_acc: 0.7055 - gender_output_acc: 0.8406 - val_loss: 1.8317 - val_age_output_loss: 0.0195 - val_race_output_loss: 0.9486 - val_gender_output_loss: 0.3699 - val_age_output_mean_absolute_error: 0.1127 - val_race_output_acc: 0.6809 - val_gender_output_acc: 0.8403\n",
            "Epoch 12/75\n",
            "45/45 [==============================] - 88s 2s/step - loss: 1.5442 - age_output_loss: 0.0242 - race_output_loss: 0.7728 - gender_output_loss: 0.3367 - age_output_mean_absolute_error: 0.1219 - race_output_acc: 0.7237 - gender_output_acc: 0.8510 - val_loss: 1.7033 - val_age_output_loss: 0.0195 - val_race_output_loss: 0.8679 - val_gender_output_loss: 0.3625 - val_age_output_mean_absolute_error: 0.1129 - val_race_output_acc: 0.7060 - val_gender_output_acc: 0.8374\n",
            "Epoch 13/75\n",
            "45/45 [==============================] - 88s 2s/step - loss: 1.4611 - age_output_loss: 0.0230 - race_output_loss: 0.7320 - gender_output_loss: 0.3171 - age_output_mean_absolute_error: 0.1168 - race_output_acc: 0.7387 - gender_output_acc: 0.8628 - val_loss: 1.6634 - val_age_output_loss: 0.0183 - val_race_output_loss: 0.8618 - val_gender_output_loss: 0.3342 - val_age_output_mean_absolute_error: 0.1081 - val_race_output_acc: 0.7029 - val_gender_output_acc: 0.8561\n",
            "Epoch 14/75\n",
            "45/45 [==============================] - 88s 2s/step - loss: 1.3979 - age_output_loss: 0.0208 - race_output_loss: 0.7081 - gender_output_loss: 0.2941 - age_output_mean_absolute_error: 0.1115 - race_output_acc: 0.7488 - gender_output_acc: 0.8745 - val_loss: 1.6191 - val_age_output_loss: 0.0181 - val_race_output_loss: 0.8305 - val_gender_output_loss: 0.3371 - val_age_output_mean_absolute_error: 0.1081 - val_race_output_acc: 0.7204 - val_gender_output_acc: 0.8575\n",
            "Epoch 15/75\n",
            "45/45 [==============================] - 88s 2s/step - loss: 1.3242 - age_output_loss: 0.0179 - race_output_loss: 0.6677 - gender_output_loss: 0.2867 - age_output_mean_absolute_error: 0.1029 - race_output_acc: 0.7619 - gender_output_acc: 0.8767 - val_loss: 1.6585 - val_age_output_loss: 0.0189 - val_race_output_loss: 0.8564 - val_gender_output_loss: 0.3362 - val_age_output_mean_absolute_error: 0.1115 - val_race_output_acc: 0.7056 - val_gender_output_acc: 0.8544\n",
            "Epoch 16/75\n",
            "45/45 [==============================] - 88s 2s/step - loss: 1.3115 - age_output_loss: 0.0211 - race_output_loss: 0.6604 - gender_output_loss: 0.2788 - age_output_mean_absolute_error: 0.1116 - race_output_acc: 0.7623 - gender_output_acc: 0.8789 - val_loss: 1.5155 - val_age_output_loss: 0.0171 - val_race_output_loss: 0.7762 - val_gender_output_loss: 0.3170 - val_age_output_mean_absolute_error: 0.1037 - val_race_output_acc: 0.7340 - val_gender_output_acc: 0.8631\n",
            "Epoch 17/75\n",
            "45/45 [==============================] - 88s 2s/step - loss: 1.2981 - age_output_loss: 0.0199 - race_output_loss: 0.6503 - gender_output_loss: 0.2828 - age_output_mean_absolute_error: 0.1083 - race_output_acc: 0.7683 - gender_output_acc: 0.8750 - val_loss: 1.4991 - val_age_output_loss: 0.0156 - val_race_output_loss: 0.7594 - val_gender_output_loss: 0.3287 - val_age_output_mean_absolute_error: 0.0964 - val_race_output_acc: 0.7430 - val_gender_output_acc: 0.8573\n",
            "Epoch 18/75\n",
            "45/45 [==============================] - 88s 2s/step - loss: 1.1975 - age_output_loss: 0.0163 - race_output_loss: 0.6034 - gender_output_loss: 0.2599 - age_output_mean_absolute_error: 0.0965 - race_output_acc: 0.7845 - gender_output_acc: 0.8880 - val_loss: 1.4772 - val_age_output_loss: 0.0183 - val_race_output_loss: 0.7456 - val_gender_output_loss: 0.3221 - val_age_output_mean_absolute_error: 0.1108 - val_race_output_acc: 0.7385 - val_gender_output_acc: 0.8614\n",
            "Epoch 19/75\n",
            "45/45 [==============================] - 88s 2s/step - loss: 1.2027 - age_output_loss: 0.0254 - race_output_loss: 0.5931 - gender_output_loss: 0.2621 - age_output_mean_absolute_error: 0.1229 - race_output_acc: 0.7899 - gender_output_acc: 0.8887 - val_loss: 1.4876 - val_age_output_loss: 0.0218 - val_race_output_loss: 0.7560 - val_gender_output_loss: 0.3100 - val_age_output_mean_absolute_error: 0.1238 - val_race_output_acc: 0.7305 - val_gender_output_acc: 0.8639\n",
            "Epoch 20/75\n",
            "45/45 [==============================] - 88s 2s/step - loss: 1.0870 - age_output_loss: 0.0205 - race_output_loss: 0.5356 - gender_output_loss: 0.2427 - age_output_mean_absolute_error: 0.1097 - race_output_acc: 0.8093 - gender_output_acc: 0.8962 - val_loss: 1.4271 - val_age_output_loss: 0.0163 - val_race_output_loss: 0.7217 - val_gender_output_loss: 0.3119 - val_age_output_mean_absolute_error: 0.0994 - val_race_output_acc: 0.7379 - val_gender_output_acc: 0.8637\n",
            "Epoch 21/75\n",
            "45/45 [==============================] - 88s 2s/step - loss: 1.0316 - age_output_loss: 0.0174 - race_output_loss: 0.5084 - gender_output_loss: 0.2343 - age_output_mean_absolute_error: 0.0995 - race_output_acc: 0.8192 - gender_output_acc: 0.9028 - val_loss: 1.4112 - val_age_output_loss: 0.0208 - val_race_output_loss: 0.7137 - val_gender_output_loss: 0.2989 - val_age_output_mean_absolute_error: 0.1171 - val_race_output_acc: 0.7512 - val_gender_output_acc: 0.8692\n",
            "Epoch 22/75\n",
            "45/45 [==============================] - 88s 2s/step - loss: 1.0262 - age_output_loss: 0.0172 - race_output_loss: 0.5143 - gender_output_loss: 0.2205 - age_output_mean_absolute_error: 0.0986 - race_output_acc: 0.8165 - gender_output_acc: 0.9098 - val_loss: 1.4840 - val_age_output_loss: 0.0191 - val_race_output_loss: 0.7484 - val_gender_output_loss: 0.3233 - val_age_output_mean_absolute_error: 0.1131 - val_race_output_acc: 0.7303 - val_gender_output_acc: 0.8522\n",
            "Epoch 23/75\n",
            "45/45 [==============================] - 87s 2s/step - loss: 0.9604 - age_output_loss: 0.0169 - race_output_loss: 0.4690 - gender_output_loss: 0.2232 - age_output_mean_absolute_error: 0.0981 - race_output_acc: 0.8317 - gender_output_acc: 0.9039 - val_loss: 1.5759 - val_age_output_loss: 0.0217 - val_race_output_loss: 0.8187 - val_gender_output_loss: 0.3045 - val_age_output_mean_absolute_error: 0.1235 - val_race_output_acc: 0.7113 - val_gender_output_acc: 0.8668\n",
            "Epoch 24/75\n",
            "45/45 [==============================] - 87s 2s/step - loss: 0.9610 - age_output_loss: 0.0163 - race_output_loss: 0.4637 - gender_output_loss: 0.2328 - age_output_mean_absolute_error: 0.0961 - race_output_acc: 0.8347 - gender_output_acc: 0.9033 - val_loss: 1.4869 - val_age_output_loss: 0.0231 - val_race_output_loss: 0.7540 - val_gender_output_loss: 0.3097 - val_age_output_mean_absolute_error: 0.1268 - val_race_output_acc: 0.7344 - val_gender_output_acc: 0.8670\n",
            "Epoch 25/75\n",
            "45/45 [==============================] - 87s 2s/step - loss: 0.8945 - age_output_loss: 0.0162 - race_output_loss: 0.4307 - gender_output_loss: 0.2162 - age_output_mean_absolute_error: 0.0957 - race_output_acc: 0.8485 - gender_output_acc: 0.9094 - val_loss: 1.6370 - val_age_output_loss: 0.0283 - val_race_output_loss: 0.8500 - val_gender_output_loss: 0.3055 - val_age_output_mean_absolute_error: 0.1433 - val_race_output_acc: 0.7044 - val_gender_output_acc: 0.8670\n",
            "Epoch 26/75\n",
            "45/45 [==============================] - 87s 2s/step - loss: 0.8605 - age_output_loss: 0.0179 - race_output_loss: 0.4150 - gender_output_loss: 0.2023 - age_output_mean_absolute_error: 0.1016 - race_output_acc: 0.8503 - gender_output_acc: 0.9152 - val_loss: 1.5881 - val_age_output_loss: 0.0206 - val_race_output_loss: 0.8066 - val_gender_output_loss: 0.3370 - val_age_output_mean_absolute_error: 0.1195 - val_race_output_acc: 0.7214 - val_gender_output_acc: 0.8516\n",
            "Epoch 27/75\n",
            "45/45 [==============================] - 87s 2s/step - loss: 0.8259 - age_output_loss: 0.0160 - race_output_loss: 0.4038 - gender_output_loss: 0.1881 - age_output_mean_absolute_error: 0.0959 - race_output_acc: 0.8576 - gender_output_acc: 0.9216 - val_loss: 1.4745 - val_age_output_loss: 0.0148 - val_race_output_loss: 0.7625 - val_gender_output_loss: 0.3011 - val_age_output_mean_absolute_error: 0.0938 - val_race_output_acc: 0.7373 - val_gender_output_acc: 0.8694\n",
            "Epoch 28/75\n",
            "45/45 [==============================] - 87s 2s/step - loss: 0.7710 - age_output_loss: 0.0165 - race_output_loss: 0.3656 - gender_output_loss: 0.1896 - age_output_mean_absolute_error: 0.0973 - race_output_acc: 0.8701 - gender_output_acc: 0.9221 - val_loss: 1.4089 - val_age_output_loss: 0.0147 - val_race_output_loss: 0.7231 - val_gender_output_loss: 0.2948 - val_age_output_mean_absolute_error: 0.0941 - val_race_output_acc: 0.7407 - val_gender_output_acc: 0.8688\n",
            "Epoch 29/75\n",
            "45/45 [==============================] - 87s 2s/step - loss: 0.6952 - age_output_loss: 0.0159 - race_output_loss: 0.3316 - gender_output_loss: 0.1659 - age_output_mean_absolute_error: 0.0946 - race_output_acc: 0.8799 - gender_output_acc: 0.9311 - val_loss: 1.5356 - val_age_output_loss: 0.0223 - val_race_output_loss: 0.7960 - val_gender_output_loss: 0.2970 - val_age_output_mean_absolute_error: 0.1263 - val_race_output_acc: 0.7309 - val_gender_output_acc: 0.8736\n",
            "Epoch 30/75\n",
            "45/45 [==============================] - 87s 2s/step - loss: 0.7013 - age_output_loss: 0.0162 - race_output_loss: 0.3405 - gender_output_loss: 0.1581 - age_output_mean_absolute_error: 0.0958 - race_output_acc: 0.8798 - gender_output_acc: 0.9354 - val_loss: 1.4669 - val_age_output_loss: 0.0152 - val_race_output_loss: 0.7618 - val_gender_output_loss: 0.2937 - val_age_output_mean_absolute_error: 0.0974 - val_race_output_acc: 0.7385 - val_gender_output_acc: 0.8748\n",
            "Epoch 31/75\n",
            "45/45 [==============================] - 87s 2s/step - loss: 0.6882 - age_output_loss: 0.0170 - race_output_loss: 0.3256 - gender_output_loss: 0.1659 - age_output_mean_absolute_error: 0.0983 - race_output_acc: 0.8833 - gender_output_acc: 0.9334 - val_loss: 1.5519 - val_age_output_loss: 0.0162 - val_race_output_loss: 0.7863 - val_gender_output_loss: 0.3400 - val_age_output_mean_absolute_error: 0.1021 - val_race_output_acc: 0.7282 - val_gender_output_acc: 0.8618\n",
            "Epoch 32/75\n",
            "45/45 [==============================] - 87s 2s/step - loss: 0.6395 - age_output_loss: 0.0161 - race_output_loss: 0.2993 - gender_output_loss: 0.1584 - age_output_mean_absolute_error: 0.0955 - race_output_acc: 0.8911 - gender_output_acc: 0.9359 - val_loss: 1.5802 - val_age_output_loss: 0.0251 - val_race_output_loss: 0.8043 - val_gender_output_loss: 0.3236 - val_age_output_mean_absolute_error: 0.1343 - val_race_output_acc: 0.7208 - val_gender_output_acc: 0.8612\n",
            "Epoch 33/75\n",
            "45/45 [==============================] - 87s 2s/step - loss: 0.6237 - age_output_loss: 0.0181 - race_output_loss: 0.2893 - gender_output_loss: 0.1537 - age_output_mean_absolute_error: 0.1014 - race_output_acc: 0.8957 - gender_output_acc: 0.9375 - val_loss: 1.6761 - val_age_output_loss: 0.0217 - val_race_output_loss: 0.8767 - val_gender_output_loss: 0.3176 - val_age_output_mean_absolute_error: 0.1114 - val_race_output_acc: 0.6957 - val_gender_output_acc: 0.8729\n",
            "Epoch 34/75\n",
            "45/45 [==============================] - 87s 2s/step - loss: 0.6091 - age_output_loss: 0.0182 - race_output_loss: 0.2781 - gender_output_loss: 0.1556 - age_output_mean_absolute_error: 0.1031 - race_output_acc: 0.8988 - gender_output_acc: 0.9358 - val_loss: 1.5851 - val_age_output_loss: 0.0171 - val_race_output_loss: 0.8273 - val_gender_output_loss: 0.3100 - val_age_output_mean_absolute_error: 0.1059 - val_race_output_acc: 0.7305 - val_gender_output_acc: 0.8703\n",
            "Epoch 35/75\n",
            "45/45 [==============================] - 87s 2s/step - loss: 0.5667 - age_output_loss: 0.0202 - race_output_loss: 0.2597 - gender_output_loss: 0.1368 - age_output_mean_absolute_error: 0.1088 - race_output_acc: 0.9044 - gender_output_acc: 0.9465 - val_loss: 1.5972 - val_age_output_loss: 0.0170 - val_race_output_loss: 0.8183 - val_gender_output_loss: 0.3357 - val_age_output_mean_absolute_error: 0.0983 - val_race_output_acc: 0.7428 - val_gender_output_acc: 0.8672\n",
            "Epoch 36/75\n",
            "45/45 [==============================] - 87s 2s/step - loss: 0.5040 - age_output_loss: 0.0168 - race_output_loss: 0.2323 - gender_output_loss: 0.1220 - age_output_mean_absolute_error: 0.0974 - race_output_acc: 0.9148 - gender_output_acc: 0.9529 - val_loss: 1.6049 - val_age_output_loss: 0.0200 - val_race_output_loss: 0.8196 - val_gender_output_loss: 0.3356 - val_age_output_mean_absolute_error: 0.1124 - val_race_output_acc: 0.7358 - val_gender_output_acc: 0.8641\n",
            "Epoch 37/75\n",
            "45/45 [==============================] - 87s 2s/step - loss: 0.6178 - age_output_loss: 0.0191 - race_output_loss: 0.3010 - gender_output_loss: 0.1280 - age_output_mean_absolute_error: 0.1064 - race_output_acc: 0.8903 - gender_output_acc: 0.9494 - val_loss: 1.6662 - val_age_output_loss: 0.0375 - val_race_output_loss: 0.8364 - val_gender_output_loss: 0.3366 - val_age_output_mean_absolute_error: 0.1681 - val_race_output_acc: 0.7338 - val_gender_output_acc: 0.8633\n",
            "Epoch 38/75\n",
            "45/45 [==============================] - 87s 2s/step - loss: 0.5567 - age_output_loss: 0.0175 - race_output_loss: 0.2643 - gender_output_loss: 0.1252 - age_output_mean_absolute_error: 0.1003 - race_output_acc: 0.9046 - gender_output_acc: 0.9490 - val_loss: 1.7726 - val_age_output_loss: 0.0195 - val_race_output_loss: 0.9290 - val_gender_output_loss: 0.3402 - val_age_output_mean_absolute_error: 0.1150 - val_race_output_acc: 0.7216 - val_gender_output_acc: 0.8629\n",
            "Epoch 39/75\n",
            "45/45 [==============================] - 87s 2s/step - loss: 0.4873 - age_output_loss: 0.0162 - race_output_loss: 0.2263 - gender_output_loss: 0.1154 - age_output_mean_absolute_error: 0.0959 - race_output_acc: 0.9198 - gender_output_acc: 0.9552 - val_loss: 1.9013 - val_age_output_loss: 0.0222 - val_race_output_loss: 0.9402 - val_gender_output_loss: 0.4467 - val_age_output_mean_absolute_error: 0.1241 - val_race_output_acc: 0.7358 - val_gender_output_acc: 0.8470\n",
            "Epoch 40/75\n",
            "45/45 [==============================] - 87s 2s/step - loss: 0.4541 - age_output_loss: 0.0157 - race_output_loss: 0.2025 - gender_output_loss: 0.1190 - age_output_mean_absolute_error: 0.0939 - race_output_acc: 0.9294 - gender_output_acc: 0.9515 - val_loss: 2.2611 - val_age_output_loss: 0.0176 - val_race_output_loss: 1.1048 - val_gender_output_loss: 0.5686 - val_age_output_mean_absolute_error: 0.1059 - val_race_output_acc: 0.6941 - val_gender_output_acc: 0.8314\n",
            "Epoch 41/75\n",
            "45/45 [==============================] - 87s 2s/step - loss: 0.4039 - age_output_loss: 0.0159 - race_output_loss: 0.1563 - gender_output_loss: 0.1377 - age_output_mean_absolute_error: 0.0952 - race_output_acc: 0.9448 - gender_output_acc: 0.9443 - val_loss: 1.8560 - val_age_output_loss: 0.0143 - val_race_output_loss: 0.9836 - val_gender_output_loss: 0.3519 - val_age_output_mean_absolute_error: 0.0877 - val_race_output_acc: 0.7247 - val_gender_output_acc: 0.8623\n",
            "Epoch 42/75\n",
            "45/45 [==============================] - 87s 2s/step - loss: 0.3093 - age_output_loss: 0.0151 - race_output_loss: 0.1229 - gender_output_loss: 0.0946 - age_output_mean_absolute_error: 0.0919 - race_output_acc: 0.9549 - gender_output_acc: 0.9607 - val_loss: 1.9958 - val_age_output_loss: 0.0183 - val_race_output_loss: 1.0554 - val_gender_output_loss: 0.3760 - val_age_output_mean_absolute_error: 0.1079 - val_race_output_acc: 0.7327 - val_gender_output_acc: 0.8645\n",
            "Epoch 43/75\n",
            "45/45 [==============================] - 87s 2s/step - loss: 0.2938 - age_output_loss: 0.0138 - race_output_loss: 0.1254 - gender_output_loss: 0.0782 - age_output_mean_absolute_error: 0.0874 - race_output_acc: 0.9543 - gender_output_acc: 0.9710 - val_loss: 1.9774 - val_age_output_loss: 0.0180 - val_race_output_loss: 1.0313 - val_gender_output_loss: 0.3943 - val_age_output_mean_absolute_error: 0.1068 - val_race_output_acc: 0.7311 - val_gender_output_acc: 0.8631\n",
            "Epoch 44/75\n",
            "45/45 [==============================] - 87s 2s/step - loss: 0.3184 - age_output_loss: 0.0144 - race_output_loss: 0.1331 - gender_output_loss: 0.0900 - age_output_mean_absolute_error: 0.0893 - race_output_acc: 0.9543 - gender_output_acc: 0.9669 - val_loss: 1.9611 - val_age_output_loss: 0.0191 - val_race_output_loss: 1.0487 - val_gender_output_loss: 0.3498 - val_age_output_mean_absolute_error: 0.1112 - val_race_output_acc: 0.7296 - val_gender_output_acc: 0.8769\n",
            "Epoch 45/75\n",
            "45/45 [==============================] - 87s 2s/step - loss: 0.3255 - age_output_loss: 0.0151 - race_output_loss: 0.1352 - gender_output_loss: 0.0925 - age_output_mean_absolute_error: 0.0914 - race_output_acc: 0.9519 - gender_output_acc: 0.9637 - val_loss: 1.8736 - val_age_output_loss: 0.0208 - val_race_output_loss: 0.9740 - val_gender_output_loss: 0.3709 - val_age_output_mean_absolute_error: 0.1178 - val_race_output_acc: 0.7407 - val_gender_output_acc: 0.8771\n",
            "Epoch 46/75\n",
            "45/45 [==============================] - 87s 2s/step - loss: 0.2959 - age_output_loss: 0.0151 - race_output_loss: 0.1263 - gender_output_loss: 0.0762 - age_output_mean_absolute_error: 0.0919 - race_output_acc: 0.9575 - gender_output_acc: 0.9707 - val_loss: 1.8479 - val_age_output_loss: 0.0148 - val_race_output_loss: 0.9745 - val_gender_output_loss: 0.3565 - val_age_output_mean_absolute_error: 0.0908 - val_race_output_acc: 0.7344 - val_gender_output_acc: 0.8736\n",
            "Epoch 47/75\n",
            "45/45 [==============================] - 87s 2s/step - loss: 0.2984 - age_output_loss: 0.0147 - race_output_loss: 0.1284 - gender_output_loss: 0.0763 - age_output_mean_absolute_error: 0.0912 - race_output_acc: 0.9539 - gender_output_acc: 0.9722 - val_loss: 1.8968 - val_age_output_loss: 0.0141 - val_race_output_loss: 0.9890 - val_gender_output_loss: 0.3852 - val_age_output_mean_absolute_error: 0.0887 - val_race_output_acc: 0.7461 - val_gender_output_acc: 0.8744\n",
            "Epoch 48/75\n",
            "45/45 [==============================] - 87s 2s/step - loss: 0.2727 - age_output_loss: 0.0147 - race_output_loss: 0.1160 - gender_output_loss: 0.0693 - age_output_mean_absolute_error: 0.0909 - race_output_acc: 0.9600 - gender_output_acc: 0.9736 - val_loss: 2.1719 - val_age_output_loss: 0.0143 - val_race_output_loss: 1.1388 - val_gender_output_loss: 0.4350 - val_age_output_mean_absolute_error: 0.0922 - val_race_output_acc: 0.7272 - val_gender_output_acc: 0.8649\n",
            "Epoch 49/75\n",
            "45/45 [==============================] - 87s 2s/step - loss: 0.2576 - age_output_loss: 0.0148 - race_output_loss: 0.1020 - gender_output_loss: 0.0750 - age_output_mean_absolute_error: 0.0914 - race_output_acc: 0.9652 - gender_output_acc: 0.9717 - val_loss: 1.8510 - val_age_output_loss: 0.0158 - val_race_output_loss: 0.9565 - val_gender_output_loss: 0.3847 - val_age_output_mean_absolute_error: 0.0989 - val_race_output_acc: 0.7383 - val_gender_output_acc: 0.8709\n",
            "Epoch 50/75\n",
            "45/45 [==============================] - 87s 2s/step - loss: 0.2639 - age_output_loss: 0.0157 - race_output_loss: 0.1114 - gender_output_loss: 0.0654 - age_output_mean_absolute_error: 0.0941 - race_output_acc: 0.9607 - gender_output_acc: 0.9754 - val_loss: 1.8118 - val_age_output_loss: 0.0145 - val_race_output_loss: 0.9330 - val_gender_output_loss: 0.3833 - val_age_output_mean_absolute_error: 0.0904 - val_race_output_acc: 0.7481 - val_gender_output_acc: 0.8647\n",
            "Epoch 51/75\n",
            "45/45 [==============================] - 87s 2s/step - loss: 0.2659 - age_output_loss: 0.0163 - race_output_loss: 0.1146 - gender_output_loss: 0.0614 - age_output_mean_absolute_error: 0.0962 - race_output_acc: 0.9572 - gender_output_acc: 0.9759 - val_loss: 1.8740 - val_age_output_loss: 0.0225 - val_race_output_loss: 0.9575 - val_gender_output_loss: 0.3928 - val_age_output_mean_absolute_error: 0.1243 - val_race_output_acc: 0.7578 - val_gender_output_acc: 0.8647\n",
            "Epoch 52/75\n",
            "45/45 [==============================] - 87s 2s/step - loss: 0.2200 - age_output_loss: 0.0148 - race_output_loss: 0.0830 - gender_output_loss: 0.0658 - age_output_mean_absolute_error: 0.0904 - race_output_acc: 0.9699 - gender_output_acc: 0.9761 - val_loss: 2.1539 - val_age_output_loss: 0.0196 - val_race_output_loss: 1.1301 - val_gender_output_loss: 0.4196 - val_age_output_mean_absolute_error: 0.1151 - val_race_output_acc: 0.7344 - val_gender_output_acc: 0.8717\n",
            "Epoch 53/75\n",
            "45/45 [==============================] - 87s 2s/step - loss: 0.2211 - age_output_loss: 0.0141 - race_output_loss: 0.0779 - gender_output_loss: 0.0760 - age_output_mean_absolute_error: 0.0888 - race_output_acc: 0.9737 - gender_output_acc: 0.9719 - val_loss: 1.9964 - val_age_output_loss: 0.0169 - val_race_output_loss: 1.0039 - val_gender_output_loss: 0.4568 - val_age_output_mean_absolute_error: 0.1037 - val_race_output_acc: 0.7344 - val_gender_output_acc: 0.8606\n",
            "Epoch 54/75\n",
            "45/45 [==============================] - 87s 2s/step - loss: 0.2650 - age_output_loss: 0.0135 - race_output_loss: 0.0806 - gender_output_loss: 0.1170 - age_output_mean_absolute_error: 0.0872 - race_output_acc: 0.9711 - gender_output_acc: 0.9533 - val_loss: 1.8847 - val_age_output_loss: 0.0197 - val_race_output_loss: 0.9654 - val_gender_output_loss: 0.3972 - val_age_output_mean_absolute_error: 0.1150 - val_race_output_acc: 0.7311 - val_gender_output_acc: 0.8501\n",
            "Epoch 55/75\n",
            "45/45 [==============================] - 88s 2s/step - loss: 0.2534 - age_output_loss: 0.0131 - race_output_loss: 0.0850 - gender_output_loss: 0.0997 - age_output_mean_absolute_error: 0.0850 - race_output_acc: 0.9705 - gender_output_acc: 0.9592 - val_loss: 1.8106 - val_age_output_loss: 0.0177 - val_race_output_loss: 0.9615 - val_gender_output_loss: 0.3329 - val_age_output_mean_absolute_error: 0.1081 - val_race_output_acc: 0.7403 - val_gender_output_acc: 0.8682\n",
            "Epoch 56/75\n",
            "45/45 [==============================] - 88s 2s/step - loss: 0.2386 - age_output_loss: 0.0136 - race_output_loss: 0.0794 - gender_output_loss: 0.0922 - age_output_mean_absolute_error: 0.0870 - race_output_acc: 0.9738 - gender_output_acc: 0.9643 - val_loss: 1.8580 - val_age_output_loss: 0.0158 - val_race_output_loss: 0.9641 - val_gender_output_loss: 0.3802 - val_age_output_mean_absolute_error: 0.0997 - val_race_output_acc: 0.7595 - val_gender_output_acc: 0.8588\n",
            "Epoch 57/75\n",
            "45/45 [==============================] - 88s 2s/step - loss: 0.2092 - age_output_loss: 0.0129 - race_output_loss: 0.0803 - gender_output_loss: 0.0630 - age_output_mean_absolute_error: 0.0844 - race_output_acc: 0.9740 - gender_output_acc: 0.9775 - val_loss: 1.8759 - val_age_output_loss: 0.0146 - val_race_output_loss: 0.9876 - val_gender_output_loss: 0.3654 - val_age_output_mean_absolute_error: 0.0942 - val_race_output_acc: 0.7362 - val_gender_output_acc: 0.8729\n",
            "Epoch 58/75\n",
            "45/45 [==============================] - 88s 2s/step - loss: 0.1760 - age_output_loss: 0.0132 - race_output_loss: 0.0714 - gender_output_loss: 0.0425 - age_output_mean_absolute_error: 0.0855 - race_output_acc: 0.9756 - gender_output_acc: 0.9847 - val_loss: 2.3376 - val_age_output_loss: 0.0162 - val_race_output_loss: 1.2380 - val_gender_output_loss: 0.4481 - val_age_output_mean_absolute_error: 0.1017 - val_race_output_acc: 0.7547 - val_gender_output_acc: 0.8738\n",
            "Epoch 59/75\n",
            "45/45 [==============================] - 87s 2s/step - loss: 0.1500 - age_output_loss: 0.0134 - race_output_loss: 0.0632 - gender_output_loss: 0.0283 - age_output_mean_absolute_error: 0.0861 - race_output_acc: 0.9784 - gender_output_acc: 0.9901 - val_loss: 2.1205 - val_age_output_loss: 0.0180 - val_race_output_loss: 1.1015 - val_gender_output_loss: 0.4323 - val_age_output_mean_absolute_error: 0.1086 - val_race_output_acc: 0.7541 - val_gender_output_acc: 0.8699\n",
            "Epoch 60/75\n",
            "45/45 [==============================] - 87s 2s/step - loss: 0.1288 - age_output_loss: 0.0121 - race_output_loss: 0.0536 - gender_output_loss: 0.0243 - age_output_mean_absolute_error: 0.0813 - race_output_acc: 0.9833 - gender_output_acc: 0.9909 - val_loss: 2.3318 - val_age_output_loss: 0.0146 - val_race_output_loss: 1.1905 - val_gender_output_loss: 0.5168 - val_age_output_mean_absolute_error: 0.0935 - val_race_output_acc: 0.7570 - val_gender_output_acc: 0.8717\n",
            "Epoch 61/75\n",
            "45/45 [==============================] - 87s 2s/step - loss: 0.1247 - age_output_loss: 0.0115 - race_output_loss: 0.0514 - gender_output_loss: 0.0246 - age_output_mean_absolute_error: 0.0795 - race_output_acc: 0.9841 - gender_output_acc: 0.9918 - val_loss: 2.2736 - val_age_output_loss: 0.0148 - val_race_output_loss: 1.1639 - val_gender_output_loss: 0.4982 - val_age_output_mean_absolute_error: 0.0952 - val_race_output_acc: 0.7278 - val_gender_output_acc: 0.8684\n",
            "Epoch 62/75\n",
            "45/45 [==============================] - 87s 2s/step - loss: 0.1323 - age_output_loss: 0.0116 - race_output_loss: 0.0557 - gender_output_loss: 0.0254 - age_output_mean_absolute_error: 0.0797 - race_output_acc: 0.9828 - gender_output_acc: 0.9904 - val_loss: 2.1787 - val_age_output_loss: 0.0138 - val_race_output_loss: 1.0675 - val_gender_output_loss: 0.5498 - val_age_output_mean_absolute_error: 0.0888 - val_race_output_acc: 0.7588 - val_gender_output_acc: 0.8641\n",
            "Epoch 63/75\n",
            "45/45 [==============================] - 88s 2s/step - loss: 0.1119 - age_output_loss: 0.0117 - race_output_loss: 0.0439 - gender_output_loss: 0.0227 - age_output_mean_absolute_error: 0.0799 - race_output_acc: 0.9846 - gender_output_acc: 0.9918 - val_loss: 2.1283 - val_age_output_loss: 0.0170 - val_race_output_loss: 1.0738 - val_gender_output_loss: 0.4835 - val_age_output_mean_absolute_error: 0.1049 - val_race_output_acc: 0.7333 - val_gender_output_acc: 0.8655\n",
            "Epoch 64/75\n",
            "45/45 [==============================] - 88s 2s/step - loss: 0.1175 - age_output_loss: 0.0116 - race_output_loss: 0.0433 - gender_output_loss: 0.0294 - age_output_mean_absolute_error: 0.0800 - race_output_acc: 0.9847 - gender_output_acc: 0.9897 - val_loss: 2.0824 - val_age_output_loss: 0.0161 - val_race_output_loss: 1.0518 - val_gender_output_loss: 0.4725 - val_age_output_mean_absolute_error: 0.1010 - val_race_output_acc: 0.7558 - val_gender_output_acc: 0.8608\n",
            "Epoch 65/75\n",
            "45/45 [==============================] - 87s 2s/step - loss: 0.1165 - age_output_loss: 0.0113 - race_output_loss: 0.0474 - gender_output_loss: 0.0229 - age_output_mean_absolute_error: 0.0786 - race_output_acc: 0.9850 - gender_output_acc: 0.9920 - val_loss: 2.1752 - val_age_output_loss: 0.0171 - val_race_output_loss: 1.0966 - val_gender_output_loss: 0.4962 - val_age_output_mean_absolute_error: 0.1060 - val_race_output_acc: 0.7477 - val_gender_output_acc: 0.8682\n",
            "Epoch 66/75\n",
            "45/45 [==============================] - 88s 2s/step - loss: 0.1037 - age_output_loss: 0.0112 - race_output_loss: 0.0395 - gender_output_loss: 0.0222 - age_output_mean_absolute_error: 0.0778 - race_output_acc: 0.9868 - gender_output_acc: 0.9921 - val_loss: 2.4531 - val_age_output_loss: 0.0138 - val_race_output_loss: 1.2835 - val_gender_output_loss: 0.5003 - val_age_output_mean_absolute_error: 0.0896 - val_race_output_acc: 0.7444 - val_gender_output_acc: 0.8686\n",
            "Epoch 67/75\n",
            "45/45 [==============================] - 88s 2s/step - loss: 0.1050 - age_output_loss: 0.0106 - race_output_loss: 0.0373 - gender_output_loss: 0.0278 - age_output_mean_absolute_error: 0.0761 - race_output_acc: 0.9877 - gender_output_acc: 0.9901 - val_loss: 2.5565 - val_age_output_loss: 0.0172 - val_race_output_loss: 1.3533 - val_gender_output_loss: 0.4921 - val_age_output_mean_absolute_error: 0.1060 - val_race_output_acc: 0.7377 - val_gender_output_acc: 0.8709\n",
            "Epoch 68/75\n",
            "45/45 [==============================] - 88s 2s/step - loss: 0.1074 - age_output_loss: 0.0109 - race_output_loss: 0.0409 - gender_output_loss: 0.0242 - age_output_mean_absolute_error: 0.0771 - race_output_acc: 0.9869 - gender_output_acc: 0.9918 - val_loss: 2.3888 - val_age_output_loss: 0.0156 - val_race_output_loss: 1.2294 - val_gender_output_loss: 0.5134 - val_age_output_mean_absolute_error: 0.0997 - val_race_output_acc: 0.7609 - val_gender_output_acc: 0.8721\n",
            "Epoch 69/75\n",
            "45/45 [==============================] - 88s 2s/step - loss: 0.0987 - age_output_loss: 0.0106 - race_output_loss: 0.0387 - gender_output_loss: 0.0194 - age_output_mean_absolute_error: 0.0759 - race_output_acc: 0.9877 - gender_output_acc: 0.9925 - val_loss: 2.3477 - val_age_output_loss: 0.0159 - val_race_output_loss: 1.2118 - val_gender_output_loss: 0.4982 - val_age_output_mean_absolute_error: 0.1007 - val_race_output_acc: 0.7496 - val_gender_output_acc: 0.8713\n",
            "Epoch 70/75\n",
            "45/45 [==============================] - 87s 2s/step - loss: 0.0916 - age_output_loss: 0.0110 - race_output_loss: 0.0344 - gender_output_loss: 0.0179 - age_output_mean_absolute_error: 0.0783 - race_output_acc: 0.9885 - gender_output_acc: 0.9940 - val_loss: 2.6578 - val_age_output_loss: 0.0151 - val_race_output_loss: 1.3169 - val_gender_output_loss: 0.6521 - val_age_output_mean_absolute_error: 0.0962 - val_race_output_acc: 0.7502 - val_gender_output_acc: 0.8542\n",
            "Epoch 71/75\n",
            "45/45 [==============================] - 88s 2s/step - loss: 0.0899 - age_output_loss: 0.0107 - race_output_loss: 0.0314 - gender_output_loss: 0.0214 - age_output_mean_absolute_error: 0.0765 - race_output_acc: 0.9892 - gender_output_acc: 0.9934 - val_loss: 2.5134 - val_age_output_loss: 0.0153 - val_race_output_loss: 1.2564 - val_gender_output_loss: 0.5981 - val_age_output_mean_absolute_error: 0.0977 - val_race_output_acc: 0.7506 - val_gender_output_acc: 0.8627\n",
            "Epoch 72/75\n",
            "45/45 [==============================] - 88s 2s/step - loss: 0.0801 - age_output_loss: 0.0104 - race_output_loss: 0.0275 - gender_output_loss: 0.0180 - age_output_mean_absolute_error: 0.0759 - race_output_acc: 0.9907 - gender_output_acc: 0.9940 - val_loss: 2.4728 - val_age_output_loss: 0.0158 - val_race_output_loss: 1.2455 - val_gender_output_loss: 0.5730 - val_age_output_mean_absolute_error: 0.0998 - val_race_output_acc: 0.7533 - val_gender_output_acc: 0.8649\n",
            "Epoch 73/75\n",
            "45/45 [==============================] - 88s 2s/step - loss: 0.0797 - age_output_loss: 0.0100 - race_output_loss: 0.0293 - gender_output_loss: 0.0157 - age_output_mean_absolute_error: 0.0742 - race_output_acc: 0.9904 - gender_output_acc: 0.9945 - val_loss: 2.6284 - val_age_output_loss: 0.0169 - val_race_output_loss: 1.2689 - val_gender_output_loss: 0.6913 - val_age_output_mean_absolute_error: 0.1046 - val_race_output_acc: 0.7516 - val_gender_output_acc: 0.8528\n",
            "Epoch 74/75\n",
            "45/45 [==============================] - 88s 2s/step - loss: 0.0953 - age_output_loss: 0.0099 - race_output_loss: 0.0358 - gender_output_loss: 0.0219 - age_output_mean_absolute_error: 0.0733 - race_output_acc: 0.9889 - gender_output_acc: 0.9918 - val_loss: 2.6939 - val_age_output_loss: 0.0179 - val_race_output_loss: 1.3486 - val_gender_output_loss: 0.6352 - val_age_output_mean_absolute_error: 0.1084 - val_race_output_acc: 0.7412 - val_gender_output_acc: 0.8610\n",
            "Epoch 75/75\n",
            "45/45 [==============================] - 88s 2s/step - loss: 0.0981 - age_output_loss: 0.0099 - race_output_loss: 0.0339 - gender_output_loss: 0.0274 - age_output_mean_absolute_error: 0.0740 - race_output_acc: 0.9880 - gender_output_acc: 0.9909 - val_loss: 2.4493 - val_age_output_loss: 0.0152 - val_race_output_loss: 1.2398 - val_gender_output_loss: 0.5591 - val_age_output_mean_absolute_error: 0.0978 - val_race_output_acc: 0.7387 - val_gender_output_acc: 0.8616\n"
          ],
          "name": "stdout"
        }
      ]
    },
    {
      "cell_type": "markdown",
      "metadata": {
        "id": "KGJXNcLLglBi",
        "colab_type": "text"
      },
      "source": [
        "###Testing the Model"
      ]
    },
    {
      "cell_type": "code",
      "metadata": {
        "id": "8z_ji5el8kKO",
        "colab_type": "code",
        "outputId": "f487edd7-16c3-4c69-ccf0-e0804452792e",
        "colab": {
          "base_uri": "https://localhost:8080/",
          "height": 136
        }
      },
      "source": [
        "test_= Img_preprocesser(data, test_idx, train=False, batch_size=128)\n",
        "dict(zip(model.metrics_names, model.evaluate_generator(test_, steps=len(test_idx)//128)))"
      ],
      "execution_count": 0,
      "outputs": [
        {
          "output_type": "execute_result",
          "data": {
            "text/plain": [
              "{'age_output_loss': 0.015469023382121866,\n",
              " 'age_output_mean_absolute_error': 0.09864615879275582,\n",
              " 'gender_output_acc': 0.8650568181818182,\n",
              " 'gender_output_loss': 0.5152439732443203,\n",
              " 'loss': 2.4811687317761506,\n",
              " 'race_output_acc': 0.7303977272727272,\n",
              " 'race_output_loss': 1.2899911544539713}"
            ]
          },
          "metadata": {
            "tags": []
          },
          "execution_count": 46
        }
      ]
    },
    {
      "cell_type": "markdown",
      "metadata": {
        "id": "KXLnPfYxgrKY",
        "colab_type": "text"
      },
      "source": [
        "###Predicting"
      ]
    },
    {
      "cell_type": "code",
      "metadata": {
        "id": "IkeG0FRlBlbP",
        "colab_type": "code",
        "colab": {}
      },
      "source": [
        "test_ = Img_preprocesser(data, test_idx, train=False, batch_size=128)\n",
        "x_test, (age_true, race_true, gender_true)= next(test_)\n",
        "age_pred, race_pred, gender_pred = model.predict_on_batch(x_test)"
      ],
      "execution_count": 0,
      "outputs": []
    },
    {
      "cell_type": "markdown",
      "metadata": {
        "id": "DTNRcd6Pgu6t",
        "colab_type": "text"
      },
      "source": [
        "###Saving the Model Using Keras"
      ]
    },
    {
      "cell_type": "code",
      "metadata": {
        "id": "SP9mnXHXFhAa",
        "colab_type": "code",
        "colab": {}
      },
      "source": [
        "model.save(\"Age_Gender_Race_Model_1.h5\")"
      ],
      "execution_count": 0,
      "outputs": []
    },
    {
      "cell_type": "code",
      "metadata": {
        "id": "27uhVmHgjMhz",
        "colab_type": "code",
        "colab": {}
      },
      "source": [
        "from keras.models import load_model"
      ],
      "execution_count": 0,
      "outputs": []
    },
    {
      "cell_type": "markdown",
      "metadata": {
        "id": "GHuEuW3DgydP",
        "colab_type": "text"
      },
      "source": [
        "###Loading the Saved Model"
      ]
    },
    {
      "cell_type": "code",
      "metadata": {
        "id": "IlDWZ3xmjTu4",
        "colab_type": "code",
        "outputId": "27aba598-5bb1-43c8-9546-254cca807f83",
        "colab": {
          "base_uri": "https://localhost:8080/",
          "height": 1000
        }
      },
      "source": [
        "model = load_model('/content/Age_Gender_Race_Model_1.h5')\n",
        "\n",
        "model.summary()"
      ],
      "execution_count": 0,
      "outputs": [
        {
          "output_type": "stream",
          "text": [
            "Model: \"model_4\"\n",
            "__________________________________________________________________________________________________\n",
            "Layer (type)                    Output Shape         Param #     Connected to                     \n",
            "==================================================================================================\n",
            "input_4 (InputLayer)            (None, 200, 200, 3)  0                                            \n",
            "__________________________________________________________________________________________________\n",
            "conv_1_7x7/2 (Conv2D)           (None, 100, 100, 64) 9472        input_4[0][0]                    \n",
            "__________________________________________________________________________________________________\n",
            "max_pool_1_3x3/2 (MaxPooling2D) (None, 50, 50, 64)   0           conv_1_7x7/2[0][0]               \n",
            "__________________________________________________________________________________________________\n",
            "conv_2a_3x3/1 (Conv2D)          (None, 50, 50, 64)   4160        max_pool_1_3x3/2[0][0]           \n",
            "__________________________________________________________________________________________________\n",
            "conv_2b_3x3/1 (Conv2D)          (None, 50, 50, 192)  110784      conv_2a_3x3/1[0][0]              \n",
            "__________________________________________________________________________________________________\n",
            "max_pool_2_3x3/2 (MaxPooling2D) (None, 25, 25, 192)  0           conv_2b_3x3/1[0][0]              \n",
            "__________________________________________________________________________________________________\n",
            "conv2d_170 (Conv2D)             (None, 25, 25, 96)   18528       max_pool_2_3x3/2[0][0]           \n",
            "__________________________________________________________________________________________________\n",
            "conv2d_172 (Conv2D)             (None, 25, 25, 16)   3088        max_pool_2_3x3/2[0][0]           \n",
            "__________________________________________________________________________________________________\n",
            "max_pooling2d_28 (MaxPooling2D) (None, 25, 25, 192)  0           max_pool_2_3x3/2[0][0]           \n",
            "__________________________________________________________________________________________________\n",
            "conv2d_169 (Conv2D)             (None, 25, 25, 64)   12352       max_pool_2_3x3/2[0][0]           \n",
            "__________________________________________________________________________________________________\n",
            "conv2d_171 (Conv2D)             (None, 25, 25, 128)  110720      conv2d_170[0][0]                 \n",
            "__________________________________________________________________________________________________\n",
            "conv2d_173 (Conv2D)             (None, 25, 25, 32)   12832       conv2d_172[0][0]                 \n",
            "__________________________________________________________________________________________________\n",
            "conv2d_174 (Conv2D)             (None, 25, 25, 32)   6176        max_pooling2d_28[0][0]           \n",
            "__________________________________________________________________________________________________\n",
            "inception_3a (Concatenate)      (None, 25, 25, 256)  0           conv2d_169[0][0]                 \n",
            "                                                                 conv2d_171[0][0]                 \n",
            "                                                                 conv2d_173[0][0]                 \n",
            "                                                                 conv2d_174[0][0]                 \n",
            "__________________________________________________________________________________________________\n",
            "conv2d_176 (Conv2D)             (None, 25, 25, 128)  32896       inception_3a[0][0]               \n",
            "__________________________________________________________________________________________________\n",
            "conv2d_178 (Conv2D)             (None, 25, 25, 32)   8224        inception_3a[0][0]               \n",
            "__________________________________________________________________________________________________\n",
            "max_pooling2d_29 (MaxPooling2D) (None, 25, 25, 256)  0           inception_3a[0][0]               \n",
            "__________________________________________________________________________________________________\n",
            "conv2d_175 (Conv2D)             (None, 25, 25, 128)  32896       inception_3a[0][0]               \n",
            "__________________________________________________________________________________________________\n",
            "conv2d_177 (Conv2D)             (None, 25, 25, 192)  221376      conv2d_176[0][0]                 \n",
            "__________________________________________________________________________________________________\n",
            "conv2d_179 (Conv2D)             (None, 25, 25, 96)   76896       conv2d_178[0][0]                 \n",
            "__________________________________________________________________________________________________\n",
            "conv2d_180 (Conv2D)             (None, 25, 25, 64)   16448       max_pooling2d_29[0][0]           \n",
            "__________________________________________________________________________________________________\n",
            "inception_3b (Concatenate)      (None, 25, 25, 480)  0           conv2d_175[0][0]                 \n",
            "                                                                 conv2d_177[0][0]                 \n",
            "                                                                 conv2d_179[0][0]                 \n",
            "                                                                 conv2d_180[0][0]                 \n",
            "__________________________________________________________________________________________________\n",
            "max_pool_3_3x3/2 (MaxPooling2D) (None, 13, 13, 480)  0           inception_3b[0][0]               \n",
            "__________________________________________________________________________________________________\n",
            "conv2d_182 (Conv2D)             (None, 13, 13, 96)   46176       max_pool_3_3x3/2[0][0]           \n",
            "__________________________________________________________________________________________________\n",
            "conv2d_184 (Conv2D)             (None, 13, 13, 16)   7696        max_pool_3_3x3/2[0][0]           \n",
            "__________________________________________________________________________________________________\n",
            "max_pooling2d_30 (MaxPooling2D) (None, 13, 13, 480)  0           max_pool_3_3x3/2[0][0]           \n",
            "__________________________________________________________________________________________________\n",
            "conv2d_181 (Conv2D)             (None, 13, 13, 192)  92352       max_pool_3_3x3/2[0][0]           \n",
            "__________________________________________________________________________________________________\n",
            "conv2d_183 (Conv2D)             (None, 13, 13, 208)  179920      conv2d_182[0][0]                 \n",
            "__________________________________________________________________________________________________\n",
            "conv2d_185 (Conv2D)             (None, 13, 13, 48)   19248       conv2d_184[0][0]                 \n",
            "__________________________________________________________________________________________________\n",
            "conv2d_186 (Conv2D)             (None, 13, 13, 64)   30784       max_pooling2d_30[0][0]           \n",
            "__________________________________________________________________________________________________\n",
            "inception_4a (Concatenate)      (None, 13, 13, 512)  0           conv2d_181[0][0]                 \n",
            "                                                                 conv2d_183[0][0]                 \n",
            "                                                                 conv2d_185[0][0]                 \n",
            "                                                                 conv2d_186[0][0]                 \n",
            "__________________________________________________________________________________________________\n",
            "conv2d_189 (Conv2D)             (None, 13, 13, 112)  57456       inception_4a[0][0]               \n",
            "__________________________________________________________________________________________________\n",
            "conv2d_191 (Conv2D)             (None, 13, 13, 24)   12312       inception_4a[0][0]               \n",
            "__________________________________________________________________________________________________\n",
            "max_pooling2d_31 (MaxPooling2D) (None, 13, 13, 512)  0           inception_4a[0][0]               \n",
            "__________________________________________________________________________________________________\n",
            "conv2d_188 (Conv2D)             (None, 13, 13, 160)  82080       inception_4a[0][0]               \n",
            "__________________________________________________________________________________________________\n",
            "conv2d_190 (Conv2D)             (None, 13, 13, 224)  226016      conv2d_189[0][0]                 \n",
            "__________________________________________________________________________________________________\n",
            "conv2d_192 (Conv2D)             (None, 13, 13, 64)   38464       conv2d_191[0][0]                 \n",
            "__________________________________________________________________________________________________\n",
            "conv2d_193 (Conv2D)             (None, 13, 13, 64)   32832       max_pooling2d_31[0][0]           \n",
            "__________________________________________________________________________________________________\n",
            "inception_4b (Concatenate)      (None, 13, 13, 512)  0           conv2d_188[0][0]                 \n",
            "                                                                 conv2d_190[0][0]                 \n",
            "                                                                 conv2d_192[0][0]                 \n",
            "                                                                 conv2d_193[0][0]                 \n",
            "__________________________________________________________________________________________________\n",
            "conv2d_195 (Conv2D)             (None, 13, 13, 128)  65664       inception_4b[0][0]               \n",
            "__________________________________________________________________________________________________\n",
            "conv2d_197 (Conv2D)             (None, 13, 13, 24)   12312       inception_4b[0][0]               \n",
            "__________________________________________________________________________________________________\n",
            "max_pooling2d_32 (MaxPooling2D) (None, 13, 13, 512)  0           inception_4b[0][0]               \n",
            "__________________________________________________________________________________________________\n",
            "conv2d_194 (Conv2D)             (None, 13, 13, 128)  65664       inception_4b[0][0]               \n",
            "__________________________________________________________________________________________________\n",
            "conv2d_196 (Conv2D)             (None, 13, 13, 256)  295168      conv2d_195[0][0]                 \n",
            "__________________________________________________________________________________________________\n",
            "conv2d_198 (Conv2D)             (None, 13, 13, 64)   38464       conv2d_197[0][0]                 \n",
            "__________________________________________________________________________________________________\n",
            "conv2d_199 (Conv2D)             (None, 13, 13, 64)   32832       max_pooling2d_32[0][0]           \n",
            "__________________________________________________________________________________________________\n",
            "inception_4c (Concatenate)      (None, 13, 13, 512)  0           conv2d_194[0][0]                 \n",
            "                                                                 conv2d_196[0][0]                 \n",
            "                                                                 conv2d_198[0][0]                 \n",
            "                                                                 conv2d_199[0][0]                 \n",
            "__________________________________________________________________________________________________\n",
            "conv2d_201 (Conv2D)             (None, 13, 13, 144)  73872       inception_4c[0][0]               \n",
            "__________________________________________________________________________________________________\n",
            "conv2d_203 (Conv2D)             (None, 13, 13, 32)   16416       inception_4c[0][0]               \n",
            "__________________________________________________________________________________________________\n",
            "max_pooling2d_33 (MaxPooling2D) (None, 13, 13, 512)  0           inception_4c[0][0]               \n",
            "__________________________________________________________________________________________________\n",
            "conv2d_200 (Conv2D)             (None, 13, 13, 112)  57456       inception_4c[0][0]               \n",
            "__________________________________________________________________________________________________\n",
            "conv2d_202 (Conv2D)             (None, 13, 13, 288)  373536      conv2d_201[0][0]                 \n",
            "__________________________________________________________________________________________________\n",
            "conv2d_204 (Conv2D)             (None, 13, 13, 64)   51264       conv2d_203[0][0]                 \n",
            "__________________________________________________________________________________________________\n",
            "conv2d_205 (Conv2D)             (None, 13, 13, 64)   32832       max_pooling2d_33[0][0]           \n",
            "__________________________________________________________________________________________________\n",
            "inception_4d (Concatenate)      (None, 13, 13, 528)  0           conv2d_200[0][0]                 \n",
            "                                                                 conv2d_202[0][0]                 \n",
            "                                                                 conv2d_204[0][0]                 \n",
            "                                                                 conv2d_205[0][0]                 \n",
            "__________________________________________________________________________________________________\n",
            "conv2d_208 (Conv2D)             (None, 13, 13, 160)  84640       inception_4d[0][0]               \n",
            "__________________________________________________________________________________________________\n",
            "conv2d_210 (Conv2D)             (None, 13, 13, 32)   16928       inception_4d[0][0]               \n",
            "__________________________________________________________________________________________________\n",
            "max_pooling2d_34 (MaxPooling2D) (None, 13, 13, 528)  0           inception_4d[0][0]               \n",
            "__________________________________________________________________________________________________\n",
            "conv2d_207 (Conv2D)             (None, 13, 13, 256)  135424      inception_4d[0][0]               \n",
            "__________________________________________________________________________________________________\n",
            "conv2d_209 (Conv2D)             (None, 13, 13, 320)  461120      conv2d_208[0][0]                 \n",
            "__________________________________________________________________________________________________\n",
            "conv2d_211 (Conv2D)             (None, 13, 13, 128)  102528      conv2d_210[0][0]                 \n",
            "__________________________________________________________________________________________________\n",
            "conv2d_212 (Conv2D)             (None, 13, 13, 128)  67712       max_pooling2d_34[0][0]           \n",
            "__________________________________________________________________________________________________\n",
            "inception_4e (Concatenate)      (None, 13, 13, 832)  0           conv2d_207[0][0]                 \n",
            "                                                                 conv2d_209[0][0]                 \n",
            "                                                                 conv2d_211[0][0]                 \n",
            "                                                                 conv2d_212[0][0]                 \n",
            "__________________________________________________________________________________________________\n",
            "max_pool_4_3x3/2 (MaxPooling2D) (None, 7, 7, 832)    0           inception_4e[0][0]               \n",
            "__________________________________________________________________________________________________\n",
            "conv2d_214 (Conv2D)             (None, 7, 7, 160)    133280      max_pool_4_3x3/2[0][0]           \n",
            "__________________________________________________________________________________________________\n",
            "conv2d_216 (Conv2D)             (None, 7, 7, 32)     26656       max_pool_4_3x3/2[0][0]           \n",
            "__________________________________________________________________________________________________\n",
            "max_pooling2d_35 (MaxPooling2D) (None, 7, 7, 832)    0           max_pool_4_3x3/2[0][0]           \n",
            "__________________________________________________________________________________________________\n",
            "conv2d_213 (Conv2D)             (None, 7, 7, 256)    213248      max_pool_4_3x3/2[0][0]           \n",
            "__________________________________________________________________________________________________\n",
            "conv2d_215 (Conv2D)             (None, 7, 7, 320)    461120      conv2d_214[0][0]                 \n",
            "__________________________________________________________________________________________________\n",
            "conv2d_217 (Conv2D)             (None, 7, 7, 128)    102528      conv2d_216[0][0]                 \n",
            "__________________________________________________________________________________________________\n",
            "conv2d_218 (Conv2D)             (None, 7, 7, 128)    106624      max_pooling2d_35[0][0]           \n",
            "__________________________________________________________________________________________________\n",
            "inception_5a (Concatenate)      (None, 7, 7, 832)    0           conv2d_213[0][0]                 \n",
            "                                                                 conv2d_215[0][0]                 \n",
            "                                                                 conv2d_217[0][0]                 \n",
            "                                                                 conv2d_218[0][0]                 \n",
            "__________________________________________________________________________________________________\n",
            "conv2d_220 (Conv2D)             (None, 7, 7, 192)    159936      inception_5a[0][0]               \n",
            "__________________________________________________________________________________________________\n",
            "conv2d_222 (Conv2D)             (None, 7, 7, 48)     39984       inception_5a[0][0]               \n",
            "__________________________________________________________________________________________________\n",
            "max_pooling2d_36 (MaxPooling2D) (None, 7, 7, 832)    0           inception_5a[0][0]               \n",
            "__________________________________________________________________________________________________\n",
            "conv2d_219 (Conv2D)             (None, 7, 7, 384)    319872      inception_5a[0][0]               \n",
            "__________________________________________________________________________________________________\n",
            "conv2d_221 (Conv2D)             (None, 7, 7, 384)    663936      conv2d_220[0][0]                 \n",
            "__________________________________________________________________________________________________\n",
            "conv2d_223 (Conv2D)             (None, 7, 7, 128)    153728      conv2d_222[0][0]                 \n",
            "__________________________________________________________________________________________________\n",
            "conv2d_224 (Conv2D)             (None, 7, 7, 128)    106624      max_pooling2d_36[0][0]           \n",
            "__________________________________________________________________________________________________\n",
            "inception_5b (Concatenate)      (None, 7, 7, 1024)   0           conv2d_219[0][0]                 \n",
            "                                                                 conv2d_221[0][0]                 \n",
            "                                                                 conv2d_223[0][0]                 \n",
            "                                                                 conv2d_224[0][0]                 \n",
            "__________________________________________________________________________________________________\n",
            "dropout_12 (Dropout)            (None, 7, 7, 1024)   0           inception_5b[0][0]               \n",
            "__________________________________________________________________________________________________\n",
            "global_max_pooling2d_4 (GlobalM (None, 1024)         0           dropout_12[0][0]                 \n",
            "__________________________________________________________________________________________________\n",
            "dense_18 (Dense)                (None, 128)          131200      global_max_pooling2d_4[0][0]     \n",
            "__________________________________________________________________________________________________\n",
            "dense_19 (Dense)                (None, 128)          131200      global_max_pooling2d_4[0][0]     \n",
            "__________________________________________________________________________________________________\n",
            "dense_20 (Dense)                (None, 128)          131200      global_max_pooling2d_4[0][0]     \n",
            "__________________________________________________________________________________________________\n",
            "age_output (Dense)              (None, 1)            129         dense_18[0][0]                   \n",
            "__________________________________________________________________________________________________\n",
            "race_output (Dense)             (None, 5)            645         dense_19[0][0]                   \n",
            "__________________________________________________________________________________________________\n",
            "gender_output (Dense)           (None, 2)            258         dense_20[0][0]                   \n",
            "==================================================================================================\n",
            "Total params: 6,368,184\n",
            "Trainable params: 6,368,184\n",
            "Non-trainable params: 0\n",
            "__________________________________________________________________________________________________\n"
          ],
          "name": "stdout"
        }
      ]
    },
    {
      "cell_type": "markdown",
      "metadata": {
        "id": "o7xlI6FAg8Hu",
        "colab_type": "text"
      },
      "source": [
        "###Testing Sample Image"
      ]
    },
    {
      "cell_type": "code",
      "metadata": {
        "id": "JERHDeBrkjXc",
        "colab_type": "code",
        "colab": {}
      },
      "source": [
        "test_img = Image.open('/content/testimage.jpg')"
      ],
      "execution_count": 0,
      "outputs": []
    },
    {
      "cell_type": "code",
      "metadata": {
        "id": "ZMitTuqhkoHi",
        "colab_type": "code",
        "colab": {}
      },
      "source": [
        "\n",
        "img = test_img.resize((IMG_WIDTH, IMG_HEIGHT))\n",
        "img = np.array(img) / 255.0"
      ],
      "execution_count": 0,
      "outputs": []
    },
    {
      "cell_type": "code",
      "metadata": {
        "id": "So8r3cJaleeO",
        "colab_type": "code",
        "colab": {}
      },
      "source": [
        "img = img.reshape(-1,200,200,3)"
      ],
      "execution_count": 0,
      "outputs": []
    },
    {
      "cell_type": "code",
      "metadata": {
        "id": "g450vsPGk96Q",
        "colab_type": "code",
        "colab": {}
      },
      "source": [
        "age, race, gender = model.predict(img)"
      ],
      "execution_count": 0,
      "outputs": []
    },
    {
      "cell_type": "code",
      "metadata": {
        "id": "UKwjbyw9lFuM",
        "colab_type": "code",
        "outputId": "1fc8968c-a12e-475b-c15f-309805e9aff8",
        "colab": {
          "base_uri": "https://localhost:8080/",
          "height": 34
        }
      },
      "source": [
        "print(\"Age:\",int(age[0]*100),\"Race:\" ,Id_Race[race.argmax()], \"Gender:\",Id_Gen[gender.argmax()])"
      ],
      "execution_count": 0,
      "outputs": [
        {
          "output_type": "stream",
          "text": [
            "Age: 20 Race: white Gender: male\n"
          ],
          "name": "stdout"
        }
      ]
    },
    {
      "cell_type": "code",
      "metadata": {
        "id": "lKwkcatnoBqc",
        "colab_type": "code",
        "colab": {}
      },
      "source": [
        ""
      ],
      "execution_count": 0,
      "outputs": []
    }
  ]
}
